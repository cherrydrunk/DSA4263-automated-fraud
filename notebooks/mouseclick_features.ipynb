{
 "cells": [
  {
   "cell_type": "markdown",
   "metadata": {},
   "source": [
    "# Set Up"
   ]
  },
  {
   "cell_type": "code",
   "execution_count": 15,
   "metadata": {},
   "outputs": [],
   "source": [
    "import pandas as pd\n",
    "import numpy as np\n",
    "import matplotlib.pyplot as plt\n",
    "import random\n",
    "import seaborn as sns\n"
   ]
  },
  {
   "cell_type": "code",
   "execution_count": 16,
   "metadata": {},
   "outputs": [
    {
     "name": "stdout",
     "output_type": "stream",
     "text": [
      "Extracted to ../data/interim/unzipped/\n"
     ]
    }
   ],
   "source": [
    "import zipfile\n",
    "\n",
    "# Define the zip file and destination folder\n",
    "zip_path = r'../data/interim/mouse_p1p2_final.zip'  \n",
    "extract_folder = \"../data/interim/unzipped/\"  \n",
    "\n",
    "# Unzip the folder\n",
    "with zipfile.ZipFile(zip_path, 'r') as zip_ref:\n",
    "    zip_ref.extractall(extract_folder)\n",
    "\n",
    "print(f\"Extracted to {extract_folder}\")\n",
    "\n",
    "# Unzipped data will be gitignored"
   ]
  },
  {
   "cell_type": "code",
   "execution_count": 17,
   "metadata": {},
   "outputs": [],
   "source": [
    "# Load the data\n",
    "file_path = \"../data/interim/unzipped/mouse_p1p2_final.csv\"\n",
    "df = pd.read_csv(file_path)\n",
    "\n",
    "# Drop duplicates, drop NAs, and sort values\n",
    "df = df.drop_duplicates(subset=['session_id', 'mousemove_times'], keep='first')\n",
    "df = df.sort_values(by=['session_id', 'mousemove_times']).reset_index(drop=True)\n",
    "df = df.dropna(subset=['session_id', 'mousemove_times', 'mousemove_type', 'mousemove_behaviour', 'label'])\n",
    "\n",
    "# Extract the mousemove_x and mousemove_y coordinates from the 'mousemove_behaviour' string column\n",
    "df[['mousemove_x', 'mousemove_y']] = df['mousemove_behaviour'].str.replace(r'[()]', '', regex=True).str.split(',', expand=True)\n",
    "\n",
    "# Convert mousemove_x and mousemove_y to integer type\n",
    "df['mousemove_x'] = df['mousemove_x'].astype(int)\n",
    "df['mousemove_y'] = df['mousemove_y'].astype(int)"
   ]
  },
  {
   "cell_type": "code",
   "execution_count": 18,
   "metadata": {},
   "outputs": [
    {
     "data": {
      "text/plain": [
       "m     3629499\n",
       "cl       8625\n",
       "cr        160\n",
       "cm         64\n",
       "Name: mousemove_type, dtype: int64"
      ]
     },
     "execution_count": 18,
     "metadata": {},
     "output_type": "execute_result"
    }
   ],
   "source": [
    "# See movement types\n",
    "df['mousemove_type'].value_counts()"
   ]
  },
  {
   "cell_type": "code",
   "execution_count": 19,
   "metadata": {},
   "outputs": [
    {
     "data": {
      "application/vnd.microsoft.datawrangler.viewer.v0+json": {
       "columns": [
        {
         "name": "index",
         "rawType": "int64",
         "type": "integer"
        },
        {
         "name": "session_id",
         "rawType": "object",
         "type": "string"
        },
        {
         "name": "mousemove_times",
         "rawType": "int64",
         "type": "integer"
        },
        {
         "name": "mousemove_type",
         "rawType": "object",
         "type": "string"
        },
        {
         "name": "mousemove_behaviour",
         "rawType": "object",
         "type": "string"
        },
        {
         "name": "label",
         "rawType": "object",
         "type": "string"
        },
        {
         "name": "mousemove_x",
         "rawType": "int64",
         "type": "integer"
        },
        {
         "name": "mousemove_y",
         "rawType": "int64",
         "type": "integer"
        }
       ],
       "conversionMethod": "pd.DataFrame",
       "ref": "03712165-597f-4a56-9fa8-d2810e6fdc7c",
       "rows": [
        [
         "0",
         "03jt2p4bdru20sjb9me2gco6j4",
         "212340127",
         "cl",
         "(115,497)",
         "human",
         "115",
         "497"
        ],
        [
         "1",
         "03jt2p4bdru20sjb9me2gco6j4",
         "212650194",
         "cl",
         "(121,314)",
         "human",
         "121",
         "314"
        ],
        [
         "2",
         "03jt2p4bdru20sjb9me2gco6j4",
         "212756263",
         "cl",
         "(77,219)",
         "human",
         "77",
         "219"
        ],
        [
         "3",
         "03jt2p4bdru20sjb9me2gco6j4",
         "212822729",
         "cl",
         "(276,744)",
         "human",
         "276",
         "744"
        ],
        [
         "4",
         "03jt2p4bdru20sjb9me2gco6j4",
         "212848259",
         "cl",
         "(118,196)",
         "human",
         "118",
         "196"
        ],
        [
         "5",
         "03jt2p4bdru20sjb9me2gco6j4",
         "212911504",
         "cl",
         "(1408,204)",
         "human",
         "1408",
         "204"
        ],
        [
         "6",
         "03jt2p4bdru20sjb9me2gco6j4",
         "213171641",
         "cl",
         "(477,184)",
         "human",
         "477",
         "184"
        ],
        [
         "7",
         "03jt2p4bdru20sjb9me2gco6j4",
         "213213245",
         "cl",
         "(116,490)",
         "human",
         "116",
         "490"
        ],
        [
         "8",
         "03jt2p4bdru20sjb9me2gco6j4",
         "213215966",
         "cl",
         "(106,586)",
         "human",
         "106",
         "586"
        ],
        [
         "9",
         "03jt2p4bdru20sjb9me2gco6j4",
         "213218215",
         "cl",
         "(913,50)",
         "human",
         "913",
         "50"
        ],
        [
         "10",
         "03jt2p4bdru20sjb9me2gco6j4",
         "1606212336176",
         "m",
         "(1226,939)",
         "human",
         "1226",
         "939"
        ],
        [
         "11",
         "03jt2p4bdru20sjb9me2gco6j4",
         "1606212336250",
         "m",
         "(1162,674)",
         "human",
         "1162",
         "674"
        ],
        [
         "12",
         "03jt2p4bdru20sjb9me2gco6j4",
         "1606212336316",
         "m",
         "(1122,557)",
         "human",
         "1122",
         "557"
        ],
        [
         "13",
         "03jt2p4bdru20sjb9me2gco6j4",
         "1606212336371",
         "m",
         "(1115,545)",
         "human",
         "1115",
         "545"
        ],
        [
         "14",
         "03jt2p4bdru20sjb9me2gco6j4",
         "1606212336385",
         "m",
         "(1115,543)",
         "human",
         "1115",
         "543"
        ],
        [
         "15",
         "03jt2p4bdru20sjb9me2gco6j4",
         "1606212336402",
         "m",
         "(1114,540)",
         "human",
         "1114",
         "540"
        ],
        [
         "16",
         "03jt2p4bdru20sjb9me2gco6j4",
         "1606212336419",
         "m",
         "(1113,535)",
         "human",
         "1113",
         "535"
        ],
        [
         "17",
         "03jt2p4bdru20sjb9me2gco6j4",
         "1606212336435",
         "m",
         "(1111,529)",
         "human",
         "1111",
         "529"
        ],
        [
         "18",
         "03jt2p4bdru20sjb9me2gco6j4",
         "1606212336452",
         "m",
         "(1111,523)",
         "human",
         "1111",
         "523"
        ],
        [
         "19",
         "03jt2p4bdru20sjb9me2gco6j4",
         "1606212336469",
         "m",
         "(1109,515)",
         "human",
         "1109",
         "515"
        ],
        [
         "20",
         "03jt2p4bdru20sjb9me2gco6j4",
         "1606212336486",
         "m",
         "(1107,510)",
         "human",
         "1107",
         "510"
        ],
        [
         "21",
         "03jt2p4bdru20sjb9me2gco6j4",
         "1606212336502",
         "m",
         "(1107,508)",
         "human",
         "1107",
         "508"
        ],
        [
         "22",
         "03jt2p4bdru20sjb9me2gco6j4",
         "1606212336519",
         "m",
         "(1106,507)",
         "human",
         "1106",
         "507"
        ],
        [
         "23",
         "03jt2p4bdru20sjb9me2gco6j4",
         "1606212336535",
         "m",
         "(1105,504)",
         "human",
         "1105",
         "504"
        ],
        [
         "24",
         "03jt2p4bdru20sjb9me2gco6j4",
         "1606212336552",
         "m",
         "(1105,503)",
         "human",
         "1105",
         "503"
        ],
        [
         "25",
         "03jt2p4bdru20sjb9me2gco6j4",
         "1606212336569",
         "m",
         "(1103,500)",
         "human",
         "1103",
         "500"
        ],
        [
         "26",
         "03jt2p4bdru20sjb9me2gco6j4",
         "1606212336585",
         "m",
         "(1102,499)",
         "human",
         "1102",
         "499"
        ],
        [
         "27",
         "03jt2p4bdru20sjb9me2gco6j4",
         "1606212336602",
         "m",
         "(1101,495)",
         "human",
         "1101",
         "495"
        ],
        [
         "28",
         "03jt2p4bdru20sjb9me2gco6j4",
         "1606212336619",
         "m",
         "(1088,486)",
         "human",
         "1088",
         "486"
        ],
        [
         "29",
         "03jt2p4bdru20sjb9me2gco6j4",
         "1606212336635",
         "m",
         "(1062,470)",
         "human",
         "1062",
         "470"
        ],
        [
         "30",
         "03jt2p4bdru20sjb9me2gco6j4",
         "1606212336652",
         "m",
         "(1014,445)",
         "human",
         "1014",
         "445"
        ],
        [
         "31",
         "03jt2p4bdru20sjb9me2gco6j4",
         "1606212336668",
         "m",
         "(942,416)",
         "human",
         "942",
         "416"
        ],
        [
         "32",
         "03jt2p4bdru20sjb9me2gco6j4",
         "1606212336685",
         "m",
         "(857,376)",
         "human",
         "857",
         "376"
        ],
        [
         "33",
         "03jt2p4bdru20sjb9me2gco6j4",
         "1606212336702",
         "m",
         "(730,310)",
         "human",
         "730",
         "310"
        ],
        [
         "34",
         "03jt2p4bdru20sjb9me2gco6j4",
         "1606212336719",
         "m",
         "(532,206)",
         "human",
         "532",
         "206"
        ],
        [
         "35",
         "03jt2p4bdru20sjb9me2gco6j4",
         "1606212336735",
         "m",
         "(375,151)",
         "human",
         "375",
         "151"
        ],
        [
         "36",
         "03jt2p4bdru20sjb9me2gco6j4",
         "1606212336752",
         "m",
         "(276,130)",
         "human",
         "276",
         "130"
        ],
        [
         "37",
         "03jt2p4bdru20sjb9me2gco6j4",
         "1606212336768",
         "m",
         "(213,117)",
         "human",
         "213",
         "117"
        ],
        [
         "38",
         "03jt2p4bdru20sjb9me2gco6j4",
         "1606212336785",
         "m",
         "(200,113)",
         "human",
         "200",
         "113"
        ],
        [
         "39",
         "03jt2p4bdru20sjb9me2gco6j4",
         "1606212336802",
         "m",
         "(199,113)",
         "human",
         "199",
         "113"
        ],
        [
         "40",
         "03jt2p4bdru20sjb9me2gco6j4",
         "1606212336818",
         "m",
         "(199,112)",
         "human",
         "199",
         "112"
        ],
        [
         "41",
         "03jt2p4bdru20sjb9me2gco6j4",
         "1606212336837",
         "m",
         "(199,108)",
         "human",
         "199",
         "108"
        ],
        [
         "42",
         "03jt2p4bdru20sjb9me2gco6j4",
         "1606212336852",
         "m",
         "(204,105)",
         "human",
         "204",
         "105"
        ],
        [
         "43",
         "03jt2p4bdru20sjb9me2gco6j4",
         "1606212336870",
         "m",
         "(216,102)",
         "human",
         "216",
         "102"
        ],
        [
         "44",
         "03jt2p4bdru20sjb9me2gco6j4",
         "1606212336885",
         "m",
         "(240,100)",
         "human",
         "240",
         "100"
        ],
        [
         "45",
         "03jt2p4bdru20sjb9me2gco6j4",
         "1606212336903",
         "m",
         "(276,113)",
         "human",
         "276",
         "113"
        ],
        [
         "46",
         "03jt2p4bdru20sjb9me2gco6j4",
         "1606212336919",
         "m",
         "(311,127)",
         "human",
         "311",
         "127"
        ],
        [
         "47",
         "03jt2p4bdru20sjb9me2gco6j4",
         "1606212336935",
         "m",
         "(351,143)",
         "human",
         "351",
         "143"
        ],
        [
         "48",
         "03jt2p4bdru20sjb9me2gco6j4",
         "1606212336952",
         "m",
         "(398,162)",
         "human",
         "398",
         "162"
        ],
        [
         "49",
         "03jt2p4bdru20sjb9me2gco6j4",
         "1606212336969",
         "m",
         "(462,197)",
         "human",
         "462",
         "197"
        ]
       ],
       "shape": {
        "columns": 7,
        "rows": 3638348
       }
      },
      "text/html": [
       "<div>\n",
       "<style scoped>\n",
       "    .dataframe tbody tr th:only-of-type {\n",
       "        vertical-align: middle;\n",
       "    }\n",
       "\n",
       "    .dataframe tbody tr th {\n",
       "        vertical-align: top;\n",
       "    }\n",
       "\n",
       "    .dataframe thead th {\n",
       "        text-align: right;\n",
       "    }\n",
       "</style>\n",
       "<table border=\"1\" class=\"dataframe\">\n",
       "  <thead>\n",
       "    <tr style=\"text-align: right;\">\n",
       "      <th></th>\n",
       "      <th>session_id</th>\n",
       "      <th>mousemove_times</th>\n",
       "      <th>mousemove_type</th>\n",
       "      <th>mousemove_behaviour</th>\n",
       "      <th>label</th>\n",
       "      <th>mousemove_x</th>\n",
       "      <th>mousemove_y</th>\n",
       "    </tr>\n",
       "  </thead>\n",
       "  <tbody>\n",
       "    <tr>\n",
       "      <th>0</th>\n",
       "      <td>03jt2p4bdru20sjb9me2gco6j4</td>\n",
       "      <td>212340127</td>\n",
       "      <td>cl</td>\n",
       "      <td>(115,497)</td>\n",
       "      <td>human</td>\n",
       "      <td>115</td>\n",
       "      <td>497</td>\n",
       "    </tr>\n",
       "    <tr>\n",
       "      <th>1</th>\n",
       "      <td>03jt2p4bdru20sjb9me2gco6j4</td>\n",
       "      <td>212650194</td>\n",
       "      <td>cl</td>\n",
       "      <td>(121,314)</td>\n",
       "      <td>human</td>\n",
       "      <td>121</td>\n",
       "      <td>314</td>\n",
       "    </tr>\n",
       "    <tr>\n",
       "      <th>2</th>\n",
       "      <td>03jt2p4bdru20sjb9me2gco6j4</td>\n",
       "      <td>212756263</td>\n",
       "      <td>cl</td>\n",
       "      <td>(77,219)</td>\n",
       "      <td>human</td>\n",
       "      <td>77</td>\n",
       "      <td>219</td>\n",
       "    </tr>\n",
       "    <tr>\n",
       "      <th>3</th>\n",
       "      <td>03jt2p4bdru20sjb9me2gco6j4</td>\n",
       "      <td>212822729</td>\n",
       "      <td>cl</td>\n",
       "      <td>(276,744)</td>\n",
       "      <td>human</td>\n",
       "      <td>276</td>\n",
       "      <td>744</td>\n",
       "    </tr>\n",
       "    <tr>\n",
       "      <th>4</th>\n",
       "      <td>03jt2p4bdru20sjb9me2gco6j4</td>\n",
       "      <td>212848259</td>\n",
       "      <td>cl</td>\n",
       "      <td>(118,196)</td>\n",
       "      <td>human</td>\n",
       "      <td>118</td>\n",
       "      <td>196</td>\n",
       "    </tr>\n",
       "    <tr>\n",
       "      <th>...</th>\n",
       "      <td>...</td>\n",
       "      <td>...</td>\n",
       "      <td>...</td>\n",
       "      <td>...</td>\n",
       "      <td>...</td>\n",
       "      <td>...</td>\n",
       "      <td>...</td>\n",
       "    </tr>\n",
       "    <tr>\n",
       "      <th>3638343</th>\n",
       "      <td>vu3fio88psda005g91fbjona0v</td>\n",
       "      <td>1606295812254</td>\n",
       "      <td>m</td>\n",
       "      <td>(81,573)</td>\n",
       "      <td>moderate_bot</td>\n",
       "      <td>81</td>\n",
       "      <td>573</td>\n",
       "    </tr>\n",
       "    <tr>\n",
       "      <th>3638344</th>\n",
       "      <td>vu3fio88psda005g91fbjona0v</td>\n",
       "      <td>1606295812272</td>\n",
       "      <td>m</td>\n",
       "      <td>(80,573)</td>\n",
       "      <td>moderate_bot</td>\n",
       "      <td>80</td>\n",
       "      <td>573</td>\n",
       "    </tr>\n",
       "    <tr>\n",
       "      <th>3638345</th>\n",
       "      <td>vu3fio88psda005g91fbjona0v</td>\n",
       "      <td>1606295812288</td>\n",
       "      <td>m</td>\n",
       "      <td>(79,573)</td>\n",
       "      <td>moderate_bot</td>\n",
       "      <td>79</td>\n",
       "      <td>573</td>\n",
       "    </tr>\n",
       "    <tr>\n",
       "      <th>3638346</th>\n",
       "      <td>vu3fio88psda005g91fbjona0v</td>\n",
       "      <td>1606295812305</td>\n",
       "      <td>m</td>\n",
       "      <td>(78,574)</td>\n",
       "      <td>moderate_bot</td>\n",
       "      <td>78</td>\n",
       "      <td>574</td>\n",
       "    </tr>\n",
       "    <tr>\n",
       "      <th>3638347</th>\n",
       "      <td>vu3fio88psda005g91fbjona0v</td>\n",
       "      <td>1606295812322</td>\n",
       "      <td>m</td>\n",
       "      <td>(78,574)</td>\n",
       "      <td>moderate_bot</td>\n",
       "      <td>78</td>\n",
       "      <td>574</td>\n",
       "    </tr>\n",
       "  </tbody>\n",
       "</table>\n",
       "<p>3638348 rows × 7 columns</p>\n",
       "</div>"
      ],
      "text/plain": [
       "                         session_id  mousemove_times mousemove_type  \\\n",
       "0        03jt2p4bdru20sjb9me2gco6j4        212340127             cl   \n",
       "1        03jt2p4bdru20sjb9me2gco6j4        212650194             cl   \n",
       "2        03jt2p4bdru20sjb9me2gco6j4        212756263             cl   \n",
       "3        03jt2p4bdru20sjb9me2gco6j4        212822729             cl   \n",
       "4        03jt2p4bdru20sjb9me2gco6j4        212848259             cl   \n",
       "...                             ...              ...            ...   \n",
       "3638343  vu3fio88psda005g91fbjona0v    1606295812254              m   \n",
       "3638344  vu3fio88psda005g91fbjona0v    1606295812272              m   \n",
       "3638345  vu3fio88psda005g91fbjona0v    1606295812288              m   \n",
       "3638346  vu3fio88psda005g91fbjona0v    1606295812305              m   \n",
       "3638347  vu3fio88psda005g91fbjona0v    1606295812322              m   \n",
       "\n",
       "        mousemove_behaviour         label  mousemove_x  mousemove_y  \n",
       "0                 (115,497)         human          115          497  \n",
       "1                 (121,314)         human          121          314  \n",
       "2                  (77,219)         human           77          219  \n",
       "3                 (276,744)         human          276          744  \n",
       "4                 (118,196)         human          118          196  \n",
       "...                     ...           ...          ...          ...  \n",
       "3638343            (81,573)  moderate_bot           81          573  \n",
       "3638344            (80,573)  moderate_bot           80          573  \n",
       "3638345            (79,573)  moderate_bot           79          573  \n",
       "3638346            (78,574)  moderate_bot           78          574  \n",
       "3638347            (78,574)  moderate_bot           78          574  \n",
       "\n",
       "[3638348 rows x 7 columns]"
      ]
     },
     "execution_count": 19,
     "metadata": {},
     "output_type": "execute_result"
    }
   ],
   "source": [
    "df"
   ]
  },
  {
   "cell_type": "code",
   "execution_count": 20,
   "metadata": {},
   "outputs": [],
   "source": [
    "# Define custom order for results display\n",
    "custom_order = ['moderate_bot', 'advanced_bot', 'human']"
   ]
  },
  {
   "cell_type": "markdown",
   "metadata": {},
   "source": [
    "# Analysis "
   ]
  },
  {
   "cell_type": "markdown",
   "metadata": {},
   "source": [
    "### Sessions and click frequency"
   ]
  },
  {
   "cell_type": "code",
   "execution_count": 21,
   "metadata": {},
   "outputs": [
    {
     "data": {
      "application/vnd.microsoft.datawrangler.viewer.v0+json": {
       "columns": [
        {
         "name": "index",
         "rawType": "int64",
         "type": "integer"
        },
        {
         "name": "Label",
         "rawType": "category",
         "type": "unknown"
        },
        {
         "name": "Sessions Count",
         "rawType": "int64",
         "type": "integer"
        },
        {
         "name": "Total Duration",
         "rawType": "int64",
         "type": "integer"
        },
        {
         "name": "Total Clicks",
         "rawType": "int64",
         "type": "integer"
        },
        {
         "name": "Avg Clicks/Session",
         "rawType": "int64",
         "type": "integer"
        },
        {
         "name": "Click Frequency",
         "rawType": "float64",
         "type": "float"
        }
       ],
       "conversionMethod": "pd.DataFrame",
       "ref": "790aa9b8-ab82-4b0f-950b-04dbd44944d5",
       "rows": [
        [
         "2",
         "moderate_bot",
         "170",
         "1180641390324537697",
         "2357",
         "14",
         "1.996372496607206e-15"
        ],
        [
         "0",
         "advanced_bot",
         "170",
         "1889324586318229571",
         "2433",
         "14",
         "1.2877617840888015e-15"
        ],
        [
         "1",
         "human",
         "109",
         "998423117489440822",
         "4059",
         "37",
         "4.065410674991635e-15"
        ]
       ],
       "shape": {
        "columns": 6,
        "rows": 3
       }
      },
      "text/html": [
       "<div>\n",
       "<style scoped>\n",
       "    .dataframe tbody tr th:only-of-type {\n",
       "        vertical-align: middle;\n",
       "    }\n",
       "\n",
       "    .dataframe tbody tr th {\n",
       "        vertical-align: top;\n",
       "    }\n",
       "\n",
       "    .dataframe thead th {\n",
       "        text-align: right;\n",
       "    }\n",
       "</style>\n",
       "<table border=\"1\" class=\"dataframe\">\n",
       "  <thead>\n",
       "    <tr style=\"text-align: right;\">\n",
       "      <th></th>\n",
       "      <th>Label</th>\n",
       "      <th>Sessions Count</th>\n",
       "      <th>Total Duration</th>\n",
       "      <th>Total Clicks</th>\n",
       "      <th>Avg Clicks/Session</th>\n",
       "      <th>Click Frequency</th>\n",
       "    </tr>\n",
       "  </thead>\n",
       "  <tbody>\n",
       "    <tr>\n",
       "      <th>2</th>\n",
       "      <td>moderate_bot</td>\n",
       "      <td>170</td>\n",
       "      <td>1180641390324537697</td>\n",
       "      <td>2357</td>\n",
       "      <td>14</td>\n",
       "      <td>1.996372e-15</td>\n",
       "    </tr>\n",
       "    <tr>\n",
       "      <th>0</th>\n",
       "      <td>advanced_bot</td>\n",
       "      <td>170</td>\n",
       "      <td>1889324586318229571</td>\n",
       "      <td>2433</td>\n",
       "      <td>14</td>\n",
       "      <td>1.287762e-15</td>\n",
       "    </tr>\n",
       "    <tr>\n",
       "      <th>1</th>\n",
       "      <td>human</td>\n",
       "      <td>109</td>\n",
       "      <td>998423117489440822</td>\n",
       "      <td>4059</td>\n",
       "      <td>37</td>\n",
       "      <td>4.065411e-15</td>\n",
       "    </tr>\n",
       "  </tbody>\n",
       "</table>\n",
       "</div>"
      ],
      "text/plain": [
       "          Label  Sessions Count       Total Duration  Total Clicks  \\\n",
       "2  moderate_bot             170  1180641390324537697          2357   \n",
       "0  advanced_bot             170  1889324586318229571          2433   \n",
       "1         human             109   998423117489440822          4059   \n",
       "\n",
       "   Avg Clicks/Session  Click Frequency  \n",
       "2                  14     1.996372e-15  \n",
       "0                  14     1.287762e-15  \n",
       "1                  37     4.065411e-15  "
      ]
     },
     "execution_count": 21,
     "metadata": {},
     "output_type": "execute_result"
    }
   ],
   "source": [
    "summary_data = []\n",
    "\n",
    "df_sessions = df.copy()\n",
    "df_sessions['session_max_time'] = df_sessions.groupby('session_id')['mousemove_times'].transform('max')\n",
    "df_sessions['session_min_time'] = df_sessions.groupby('session_id')['mousemove_times'].transform('min')\n",
    "df_sessions['durations'] = df_sessions['session_max_time'] - df_sessions['session_min_time']\n",
    "\n",
    "for label, group in df_sessions.groupby('label'):\n",
    "    \n",
    "    # Count the number of sessions\n",
    "    unique_sessions = group['session_id'].nunique()\n",
    "\n",
    "    # Count the total duration of all sessions\n",
    "    total_duration = group['durations'].sum()\n",
    "\n",
    "    # Filter for clicks and count the number of clicks\n",
    "    filtered_group = group[group['mousemove_type'] != 'm']\n",
    "    total_clicks = len(filtered_group)\n",
    "\n",
    "    # Add to summary \n",
    "    summary_data.append({\n",
    "        'Label': label,\n",
    "        'Sessions Count': unique_sessions,\n",
    "        'Total Duration': total_duration,\n",
    "        'Total Clicks': total_clicks,\n",
    "        'Avg Clicks/Session': round(total_clicks / unique_sessions) if unique_sessions > 0 else 0,\n",
    "        'Click Frequency': total_clicks / total_duration if total_duration > 0 else 0\n",
    "    })\n",
    "\n",
    "# Show summary\n",
    "df_summary = pd.DataFrame(summary_data)\n",
    "df_summary['Label'] = pd.Categorical(df_summary['Label'], categories=custom_order, ordered=True)\n",
    "df_summary = df_summary.sort_values('Label')\n",
    "df_summary\n",
    "\n",
    "# Humans have higher click frequency than bots \n",
    "# Humans have higher average clicks per session than bots\n",
    "\n",
    "# Features that can be added: duration of session, total number of clicks per session, and click frequency"
   ]
  },
  {
   "cell_type": "markdown",
   "metadata": {},
   "source": [
    "### Click coordinates"
   ]
  },
  {
   "cell_type": "code",
   "execution_count": 22,
   "metadata": {},
   "outputs": [
    {
     "data": {
      "text/plain": [
       "count    3638348\n",
       "mean         636\n",
       "std          397\n",
       "min            0\n",
       "25%          311\n",
       "50%          584\n",
       "75%          940\n",
       "max         2519\n",
       "Name: mousemove_x, dtype: int64"
      ]
     },
     "execution_count": 22,
     "metadata": {},
     "output_type": "execute_result"
    }
   ],
   "source": [
    "df['mousemove_x'].describe().astype(int)\n",
    "# (0, 2600)"
   ]
  },
  {
   "cell_type": "code",
   "execution_count": 23,
   "metadata": {},
   "outputs": [
    {
     "data": {
      "text/plain": [
       "count    3638348\n",
       "mean         387\n",
       "std          162\n",
       "min            0\n",
       "25%          267\n",
       "50%          349\n",
       "75%          481\n",
       "max         1775\n",
       "Name: mousemove_y, dtype: int64"
      ]
     },
     "execution_count": 23,
     "metadata": {},
     "output_type": "execute_result"
    }
   ],
   "source": [
    "df['mousemove_y'].describe().astype(int)\n",
    "# (0, 1800)"
   ]
  },
  {
   "cell_type": "code",
   "execution_count": 24,
   "metadata": {},
   "outputs": [
    {
     "data": {
      "image/png": "[encoded data removed]",
      "text/plain": [
       "<Figure size 1500x1500 with 9 Axes>"
      ]
     },
     "metadata": {},
     "output_type": "display_data"
    }
   ],
   "source": [
    "df_clicks = df[df['mousemove_type']!='m']\n",
    "\n",
    "# Separate moderate_bot, advanced_bot, and human data\n",
    "moderate_bot_data = df_clicks[df_clicks['label'] == 'moderate_bot']\n",
    "advanced_bot_data = df_clicks[df_clicks['label'] == 'advanced_bot']\n",
    "human_data = df_clicks[df_clicks['label'] == 'human']\n",
    "\n",
    "# Randomly select 3 sessions from each group\n",
    "selected_moderate_bot_sessions = random.sample(list(moderate_bot_data['session_id']), 3)\n",
    "selected_advanced_bot_sessions = random.sample(list(advanced_bot_data['session_id']), 3)\n",
    "selected_human_sessions = random.sample(list(human_data['session_id']), 3)\n",
    "\n",
    "# Set up the plotting area: 3 rows (one for each category) and 3 columns\n",
    "fig, axs = plt.subplots(3, 3, figsize=(15, 15))\n",
    "\n",
    "# Plot for moderate_bot sessions\n",
    "for i, session in enumerate(selected_moderate_bot_sessions):\n",
    "    session_data = moderate_bot_data[moderate_bot_data['session_id'] == session]\n",
    "    axs[0, i].scatter(session_data['mousemove_x'], session_data['mousemove_y'], alpha=0.5, c='blue')\n",
    "    axs[0, i].set_title(f'Moderate Bot Session {session}')\n",
    "    axs[0, i].set_xlabel('X Coordinate')\n",
    "    axs[0, i].set_ylabel('Y Coordinate')\n",
    "    axs[0, i].set_xlim(0, 2600) \n",
    "    axs[0, i].set_ylim(0, 1800) \n",
    "\n",
    "# Plot for advanced_bot sessions\n",
    "for i, session in enumerate(selected_advanced_bot_sessions):\n",
    "    session_data = advanced_bot_data[advanced_bot_data['session_id'] == session]\n",
    "    axs[1, i].scatter(session_data['mousemove_x'], session_data['mousemove_y'], alpha=0.5, c='red')\n",
    "    axs[1, i].set_title(f'Advanced Bot Session {session}')\n",
    "    axs[1, i].set_xlabel('X Coordinate')\n",
    "    axs[1, i].set_ylabel('Y Coordinate')\n",
    "    axs[0, i].set_xlim(0, 2600) \n",
    "    axs[0, i].set_ylim(0, 1800) \n",
    "\n",
    "# Plot for human sessions\n",
    "for i, session in enumerate(selected_human_sessions):\n",
    "    session_data = human_data[human_data['session_id'] == session]\n",
    "    axs[2, i].scatter(session_data['mousemove_x'], session_data['mousemove_y'], alpha=0.5, c='green')\n",
    "    axs[2, i].set_title(f'Human Session {session}')\n",
    "    axs[2, i].set_xlabel('X Coordinate')\n",
    "    axs[2, i].set_ylabel('Y Coordinate')\n",
    "    axs[0, i].set_xlim(0, 2600) \n",
    "    axs[0, i].set_ylim(0, 1800) \n",
    "\n",
    "# Adjust layout\n",
    "plt.tight_layout()\n",
    "plt.show()\n"
   ]
  },
  {
   "cell_type": "code",
   "execution_count": 25,
   "metadata": {},
   "outputs": [
    {
     "data": {
      "application/vnd.microsoft.datawrangler.viewer.v0+json": {
       "columns": [
        {
         "name": "index",
         "rawType": "int64",
         "type": "integer"
        },
        {
         "name": "session_id",
         "rawType": "object",
         "type": "string"
        },
        {
         "name": "label",
         "rawType": "category",
         "type": "unknown"
        },
        {
         "name": "entropy",
         "rawType": "float64",
         "type": "float"
        }
       ],
       "conversionMethod": "pd.DataFrame",
       "ref": "73849276-3cc7-42e0-b8fe-52e12bfbe733",
       "rows": [
        [
         "0",
         "03jt2p4bdru20sjb9me2gco6j4",
         "human",
         "3.12192809488736"
        ],
        [
         "1",
         "071tbv7fsev5d64kb0f9jieor6",
         "advanced_bot",
         "3.2210972500579533"
        ],
        [
         "2",
         "094i85crhkpkhqpi3rl4athrn4",
         "advanced_bot",
         "2.8954238702803123"
        ],
        [
         "3",
         "0ht0u328t4mkgi01sp7mm07e01",
         "moderate_bot",
         "2.4464393446710138"
        ],
        [
         "4",
         "0i5kvpslrq3vb6u8ff2kuejv0v",
         "advanced_bot",
         "3.452819531114779"
        ],
        [
         "5",
         "0ikgnsdpp5jt1qd7fro2va4oka",
         "human",
         "2.749999999999998"
        ],
        [
         "6",
         "0jfeqj4kpolvb97o2s5ks7l0j4",
         "advanced_bot",
         "3.7216117239698967"
        ],
        [
         "7",
         "0oa2dua3mli7mrr32c0gd4o0i2",
         "human",
         "2.5216406363433164"
        ],
        [
         "8",
         "0ogg5l1i4nh37ek8mjpn8q9fc0",
         "moderate_bot",
         "1.4999999999999991"
        ],
        [
         "9",
         "0oi4fvkqd1acu5g08vep8eefqg",
         "moderate_bot",
         "2.584962500721154"
        ],
        [
         "10",
         "0p0kaqfmftrtfg0u12rkshrdi9",
         "human",
         "3.12192809488736"
        ],
        [
         "11",
         "0pcr6mashfodserb90cq3p04uf",
         "moderate_bot",
         "2.4956029237290105"
        ],
        [
         "12",
         "0sejj3er3n0v1sfjv2jbnhaav4",
         "moderate_bot",
         "2.3709505944546665"
        ],
        [
         "13",
         "0ucre4qu5jiho5kbjq61hr495f",
         "advanced_bot",
         "3.408694969562838"
        ],
        [
         "14",
         "0uhr32hgcllradm0p6b15371gi",
         "human",
         "4.196439344671009"
        ],
        [
         "15",
         "0vkricl80bt5v7n2s6bbhvlvk3",
         "advanced_bot",
         "2.845350936622434"
        ],
        [
         "16",
         "124nsuu4makfggp1h3ametehri",
         "moderate_bot",
         "2.419381945646369"
        ],
        [
         "17",
         "16r8lv9fabgjk06di8usnmu9ni",
         "advanced_bot",
         "2.816340113853405"
        ],
        [
         "18",
         "1afcff96kgdbmevi5aemi5mkuj",
         "advanced_bot",
         "2.866247897312728"
        ],
        [
         "19",
         "1aqgqrcuurlmvvbbpirvsh7e53",
         "human",
         "3.2516291673878195"
        ],
        [
         "20",
         "1c1h9oumn2pa0pb04v8f6fn515",
         "advanced_bot",
         "2.299896391167889"
        ],
        [
         "21",
         "1g4h4vh4d2uv360aoo55b086hd",
         "advanced_bot",
         "2.7086949695628393"
        ],
        [
         "22",
         "1gpqg899dn1eafk0j474koislc",
         "advanced_bot",
         "2.706890595608516"
        ],
        [
         "23",
         "1hv0rajig2vijia10tvjvhq12e",
         "human",
         "3.852168723603276"
        ],
        [
         "24",
         "1j8bfg4kkf15a9oj1igr147ol2",
         "human",
         "4.359377914716113"
        ],
        [
         "25",
         "1jtqu9bvu7bii5p6kcsbgqbqa3",
         "advanced_bot",
         "2.8522170014624795"
        ],
        [
         "26",
         "1m7s5287lpll34gm0amdciqvb5",
         "moderate_bot",
         "1.9362600275315263"
        ],
        [
         "27",
         "1mvlnshabcf3gbr9subps50a00",
         "human",
         "3.8868421881310065"
        ],
        [
         "28",
         "1nbs17btpqhl48dfu2nklqhffq",
         "advanced_bot",
         "1.9749375012019255"
        ],
        [
         "29",
         "1nufffs0sri7c3ere47b9i5srv",
         "moderate_bot",
         "2.3709505944546665"
        ],
        [
         "30",
         "1onh1ot5pr6j6g739m8cp5dfj0",
         "moderate_bot",
         "2.565448371820823"
        ],
        [
         "31",
         "1r170g6lqfoff21od5nn9f976a",
         "human",
         "3.095795255000931"
        ],
        [
         "32",
         "1sijirkrahu3j2dp0qmb78691l",
         "advanced_bot",
         "3.341446071165518"
        ],
        [
         "33",
         "1ttvuqau08dh4t1cjg50pr2298",
         "advanced_bot",
         "2.6703397002311045"
        ],
        [
         "34",
         "1u41k0lehrsbt97q0pe4knpa6c",
         "moderate_bot",
         "2.217021885879716"
        ],
        [
         "35",
         "20054o9vd2q32sqnc3g6kj17om",
         "advanced_bot",
         "2.8731406795131305"
        ],
        [
         "36",
         "26v7bi8e0oc7p58e3s9v8eic9f",
         "human",
         "3.452819531114779"
        ],
        [
         "37",
         "27479tfiqfgi99u7r4vq0q33db",
         "moderate_bot",
         "3.0086949695628387"
        ],
        [
         "38",
         "2cod58pj6b57pun9fl0vhiqoia",
         "advanced_bot",
         "2.8225797618424893"
        ],
        [
         "39",
         "2h80p3ff9jpfboaddjevmi55rs",
         "advanced_bot",
         "3.5724312513221155"
        ],
        [
         "40",
         "2ing4ldnnd40og2ej20qnsesbb",
         "human",
         "4.2484952555254045"
        ],
        [
         "41",
         "2j54lp7l4tosj8qtp2jaq0654a",
         "advanced_bot",
         "3.69011651759366"
        ],
        [
         "42",
         "2k97re4f45gl0ktl40bav6lfqf",
         "advanced_bot",
         "2.7254805569978653"
        ],
        [
         "43",
         "2l614ncb4kp7p6q9b0a5ln3ao6",
         "advanced_bot",
         "3.26393342948563"
        ],
        [
         "44",
         "2ojc0m4iu85a1fggs34ppevk2k",
         "human",
         "2.749999999999998"
        ],
        [
         "45",
         "2s8fa1s8oe1rqsf0ddm7m9q7da",
         "moderate_bot",
         "2.8163075192246416"
        ],
        [
         "46",
         "2vhdk7kkt7dtos2hn1fnlkf9ee",
         "moderate_bot",
         "3.026986833359284"
        ],
        [
         "47",
         "30jcp3kes0o21ej00145hji0gi",
         "moderate_bot",
         "2.7534343861887822"
        ],
        [
         "48",
         "36m3d3mt4dfs9shoptldptokbe",
         "advanced_bot",
         "2.92192809488736"
        ],
        [
         "49",
         "36rja5utab0pakj5136bi7rkop",
         "human",
         "4.773876560199213"
        ]
       ],
       "shape": {
        "columns": 3,
        "rows": 449
       }
      },
      "text/html": [
       "<div>\n",
       "<style scoped>\n",
       "    .dataframe tbody tr th:only-of-type {\n",
       "        vertical-align: middle;\n",
       "    }\n",
       "\n",
       "    .dataframe tbody tr th {\n",
       "        vertical-align: top;\n",
       "    }\n",
       "\n",
       "    .dataframe thead th {\n",
       "        text-align: right;\n",
       "    }\n",
       "</style>\n",
       "<table border=\"1\" class=\"dataframe\">\n",
       "  <thead>\n",
       "    <tr style=\"text-align: right;\">\n",
       "      <th></th>\n",
       "      <th>session_id</th>\n",
       "      <th>label</th>\n",
       "      <th>entropy</th>\n",
       "    </tr>\n",
       "  </thead>\n",
       "  <tbody>\n",
       "    <tr>\n",
       "      <th>0</th>\n",
       "      <td>03jt2p4bdru20sjb9me2gco6j4</td>\n",
       "      <td>human</td>\n",
       "      <td>3.121928</td>\n",
       "    </tr>\n",
       "    <tr>\n",
       "      <th>1</th>\n",
       "      <td>071tbv7fsev5d64kb0f9jieor6</td>\n",
       "      <td>advanced_bot</td>\n",
       "      <td>3.221097</td>\n",
       "    </tr>\n",
       "    <tr>\n",
       "      <th>2</th>\n",
       "      <td>094i85crhkpkhqpi3rl4athrn4</td>\n",
       "      <td>advanced_bot</td>\n",
       "      <td>2.895424</td>\n",
       "    </tr>\n",
       "    <tr>\n",
       "      <th>3</th>\n",
       "      <td>0ht0u328t4mkgi01sp7mm07e01</td>\n",
       "      <td>moderate_bot</td>\n",
       "      <td>2.446439</td>\n",
       "    </tr>\n",
       "    <tr>\n",
       "      <th>4</th>\n",
       "      <td>0i5kvpslrq3vb6u8ff2kuejv0v</td>\n",
       "      <td>advanced_bot</td>\n",
       "      <td>3.452820</td>\n",
       "    </tr>\n",
       "    <tr>\n",
       "      <th>...</th>\n",
       "      <td>...</td>\n",
       "      <td>...</td>\n",
       "      <td>...</td>\n",
       "    </tr>\n",
       "    <tr>\n",
       "      <th>444</th>\n",
       "      <td>vmgkfqtair7fq7kqqr6kpqm9st</td>\n",
       "      <td>moderate_bot</td>\n",
       "      <td>2.694781</td>\n",
       "    </tr>\n",
       "    <tr>\n",
       "      <th>445</th>\n",
       "      <td>vofhhjsbkpj6kc9it95e76nu1a</td>\n",
       "      <td>human</td>\n",
       "      <td>4.626272</td>\n",
       "    </tr>\n",
       "    <tr>\n",
       "      <th>446</th>\n",
       "      <td>vopb1c4o3o2dpsov8jinbbou5h</td>\n",
       "      <td>human</td>\n",
       "      <td>3.521641</td>\n",
       "    </tr>\n",
       "    <tr>\n",
       "      <th>447</th>\n",
       "      <td>vtcjrbtjq57mnai4banl61pd25</td>\n",
       "      <td>advanced_bot</td>\n",
       "      <td>3.110578</td>\n",
       "    </tr>\n",
       "    <tr>\n",
       "      <th>448</th>\n",
       "      <td>vu3fio88psda005g91fbjona0v</td>\n",
       "      <td>moderate_bot</td>\n",
       "      <td>2.459148</td>\n",
       "    </tr>\n",
       "  </tbody>\n",
       "</table>\n",
       "<p>449 rows × 3 columns</p>\n",
       "</div>"
      ],
      "text/plain": [
       "                     session_id         label   entropy\n",
       "0    03jt2p4bdru20sjb9me2gco6j4         human  3.121928\n",
       "1    071tbv7fsev5d64kb0f9jieor6  advanced_bot  3.221097\n",
       "2    094i85crhkpkhqpi3rl4athrn4  advanced_bot  2.895424\n",
       "3    0ht0u328t4mkgi01sp7mm07e01  moderate_bot  2.446439\n",
       "4    0i5kvpslrq3vb6u8ff2kuejv0v  advanced_bot  3.452820\n",
       "..                          ...           ...       ...\n",
       "444  vmgkfqtair7fq7kqqr6kpqm9st  moderate_bot  2.694781\n",
       "445  vofhhjsbkpj6kc9it95e76nu1a         human  4.626272\n",
       "446  vopb1c4o3o2dpsov8jinbbou5h         human  3.521641\n",
       "447  vtcjrbtjq57mnai4banl61pd25  advanced_bot  3.110578\n",
       "448  vu3fio88psda005g91fbjona0v  moderate_bot  2.459148\n",
       "\n",
       "[449 rows x 3 columns]"
      ]
     },
     "execution_count": 25,
     "metadata": {},
     "output_type": "execute_result"
    }
   ],
   "source": [
    "# Entropy of click coordinates \n",
    "df_entropy = df_clicks.copy()\n",
    "\n",
    "# Define grid size (e.g., 100x100 pixels per grid cell)\n",
    "grid_size = 100\n",
    "\n",
    "def calculate_session_entropy(df_entropy, grid_size):\n",
    "    # Discretize the coordinates into grid cells (vectorized operation)\n",
    "    df_entropy['mousemove_x'] = df_entropy['mousemove_x'] // grid_size\n",
    "    df_entropy['mousemove_y'] = df_entropy['mousemove_y'] // grid_size\n",
    "    \n",
    "    # Group by session_id and label, calculate frequencies for each session\n",
    "    grouped = df_entropy.groupby(['session_id', 'label', 'mousemove_x', 'mousemove_y']).size().reset_index(name='count')\n",
    "\n",
    "    # Calculate total visits per session (needed for probability calculation)\n",
    "    session_totals = grouped.groupby(['session_id', 'label'])['count'].transform('sum')\n",
    "    \n",
    "    # Calculate probabilities\n",
    "    grouped['probability'] = grouped['count'] / session_totals\n",
    "    \n",
    "    # Calculate entropy using Shannon's formula\n",
    "    grouped['entropy_part'] = -grouped['probability'] * np.log2(grouped['probability'] + np.finfo(float).eps)\n",
    "    \n",
    "    # Aggregate entropy for each session_id and label\n",
    "    entropy_data = grouped.groupby(['session_id', 'label'])['entropy_part'].sum().reset_index(name='entropy')\n",
    "    \n",
    "    return entropy_data\n",
    "\n",
    "# Example usage\n",
    "session_entropy_df = calculate_session_entropy(df_entropy, grid_size)\n",
    "session_entropy_df['label'] = pd.Categorical(session_entropy_df['label'], categories=custom_order, ordered=True)\n",
    "session_entropy_df"
   ]
  },
  {
   "cell_type": "code",
   "execution_count": 26,
   "metadata": {},
   "outputs": [
    {
     "data": {
      "application/vnd.microsoft.datawrangler.viewer.v0+json": {
       "columns": [
        {
         "name": "label",
         "rawType": "category",
         "type": "unknown"
        },
        {
         "name": "count",
         "rawType": "float64",
         "type": "float"
        },
        {
         "name": "mean",
         "rawType": "float64",
         "type": "float"
        },
        {
         "name": "std",
         "rawType": "float64",
         "type": "float"
        },
        {
         "name": "min",
         "rawType": "float64",
         "type": "float"
        },
        {
         "name": "25%",
         "rawType": "float64",
         "type": "float"
        },
        {
         "name": "50%",
         "rawType": "float64",
         "type": "float"
        },
        {
         "name": "75%",
         "rawType": "float64",
         "type": "float"
        },
        {
         "name": "max",
         "rawType": "float64",
         "type": "float"
        }
       ],
       "conversionMethod": "pd.DataFrame",
       "ref": "f257c7a6-3960-44e7-b1d7-9864a01f843e",
       "rows": [
        [
         "moderate_bot",
         "170.0",
         "2.600070570270465",
         "0.3451733948116167",
         "1.4999999999999991",
         "2.3934260109294283",
         "2.6258145836939093",
         "2.8597701991492728",
         "3.3278195311147796"
        ],
        [
         "advanced_bot",
         "170.0",
         "2.8535313336495784",
         "0.3973635599331528",
         "1.4885252948977472",
         "2.6482155827609013",
         "2.8522170014624795",
         "3.1068823248419926",
         "3.7216117239698967"
        ],
        [
         "human",
         "109.0",
         "3.6772972848720005",
         "0.7872351498014176",
         "1.9999999999999987",
         "3.12192809488736",
         "3.546439344671011",
         "4.2484952555254045",
         "5.695357174403038"
        ]
       ],
       "shape": {
        "columns": 8,
        "rows": 3
       }
      },
      "text/html": [
       "<div>\n",
       "<style scoped>\n",
       "    .dataframe tbody tr th:only-of-type {\n",
       "        vertical-align: middle;\n",
       "    }\n",
       "\n",
       "    .dataframe tbody tr th {\n",
       "        vertical-align: top;\n",
       "    }\n",
       "\n",
       "    .dataframe thead th {\n",
       "        text-align: right;\n",
       "    }\n",
       "</style>\n",
       "<table border=\"1\" class=\"dataframe\">\n",
       "  <thead>\n",
       "    <tr style=\"text-align: right;\">\n",
       "      <th></th>\n",
       "      <th>count</th>\n",
       "      <th>mean</th>\n",
       "      <th>std</th>\n",
       "      <th>min</th>\n",
       "      <th>25%</th>\n",
       "      <th>50%</th>\n",
       "      <th>75%</th>\n",
       "      <th>max</th>\n",
       "    </tr>\n",
       "    <tr>\n",
       "      <th>label</th>\n",
       "      <th></th>\n",
       "      <th></th>\n",
       "      <th></th>\n",
       "      <th></th>\n",
       "      <th></th>\n",
       "      <th></th>\n",
       "      <th></th>\n",
       "      <th></th>\n",
       "    </tr>\n",
       "  </thead>\n",
       "  <tbody>\n",
       "    <tr>\n",
       "      <th>moderate_bot</th>\n",
       "      <td>170.0</td>\n",
       "      <td>2.600071</td>\n",
       "      <td>0.345173</td>\n",
       "      <td>1.500000</td>\n",
       "      <td>2.393426</td>\n",
       "      <td>2.625815</td>\n",
       "      <td>2.859770</td>\n",
       "      <td>3.327820</td>\n",
       "    </tr>\n",
       "    <tr>\n",
       "      <th>advanced_bot</th>\n",
       "      <td>170.0</td>\n",
       "      <td>2.853531</td>\n",
       "      <td>0.397364</td>\n",
       "      <td>1.488525</td>\n",
       "      <td>2.648216</td>\n",
       "      <td>2.852217</td>\n",
       "      <td>3.106882</td>\n",
       "      <td>3.721612</td>\n",
       "    </tr>\n",
       "    <tr>\n",
       "      <th>human</th>\n",
       "      <td>109.0</td>\n",
       "      <td>3.677297</td>\n",
       "      <td>0.787235</td>\n",
       "      <td>2.000000</td>\n",
       "      <td>3.121928</td>\n",
       "      <td>3.546439</td>\n",
       "      <td>4.248495</td>\n",
       "      <td>5.695357</td>\n",
       "    </tr>\n",
       "  </tbody>\n",
       "</table>\n",
       "</div>"
      ],
      "text/plain": [
       "              count      mean       std       min       25%       50%  \\\n",
       "label                                                                   \n",
       "moderate_bot  170.0  2.600071  0.345173  1.500000  2.393426  2.625815   \n",
       "advanced_bot  170.0  2.853531  0.397364  1.488525  2.648216  2.852217   \n",
       "human         109.0  3.677297  0.787235  2.000000  3.121928  3.546439   \n",
       "\n",
       "                   75%       max  \n",
       "label                             \n",
       "moderate_bot  2.859770  3.327820  \n",
       "advanced_bot  3.106882  3.721612  \n",
       "human         4.248495  5.695357  "
      ]
     },
     "execution_count": 26,
     "metadata": {},
     "output_type": "execute_result"
    }
   ],
   "source": [
    "session_entropy_df.groupby('label', observed=True)['entropy'].describe()\n",
    "\n",
    "# Features that can be added: entropy of click coordinates"
   ]
  },
  {
   "cell_type": "markdown",
   "metadata": {},
   "source": [
    "# Output"
   ]
  },
  {
   "cell_type": "code",
   "execution_count": 27,
   "metadata": {},
   "outputs": [],
   "source": [
    "session_entropy_df = session_entropy_df[['session_id', 'entropy']]\n",
    "session_entropy_df.to_csv(\"../data/interim/mouseclick_entropy.csv\", index=False)"
   ]
  },
  {
   "cell_type": "code",
   "execution_count": 35,
   "metadata": {},
   "outputs": [],
   "source": [
    "df_sessions = df.copy()\n",
    "\n",
    "# Aggregate session-level metrics\n",
    "df_sessions = df_sessions.groupby(['session_id','label']).agg(\n",
    "    session_max_time=('mousemove_times', 'max'),\n",
    "    session_min_time=('mousemove_times', 'min'),\n",
    "    clicks_count=('mousemove_type', lambda x: (x != 'm').sum())\n",
    ").reset_index()\n",
    "\n",
    "# Calculate session duration\n",
    "df_sessions['durations'] = df_sessions['session_max_time'] - df_sessions['session_min_time']\n",
    "\n",
    "# Avoid division by zero and compute click frequency\n",
    "df_sessions['click_frequency'] = df_sessions['clicks_count'] / df_sessions['durations'].replace(0, np.nan)\n",
    "\n",
    "df_sessions_csv = df_sessions[['session_id', 'clicks_count', 'durations', 'click_frequency']]\n",
    "df_sessions_csv.to_csv(\"../data/interim/mouseclick_frequency.csv\", index=False)\n"
   ]
  },
  {
   "cell_type": "code",
   "execution_count": 33,
   "metadata": {},
   "outputs": [
    {
     "data": {
      "image/png": "[encoded data removed]",
      "text/plain": [
       "<Figure size 800x500 with 1 Axes>"
      ]
     },
     "metadata": {},
     "output_type": "display_data"
    }
   ],
   "source": [
    "# box plot\n",
    "plt.figure(figsize=(8, 5))\n",
    "sns.boxplot(x='label', y='click_frequency', data=df_sessions)\n",
    "plt.yscale('log')\n",
    "plt.title(f'click_frequency by Label (log scale)')\n",
    "plt.xlabel('Label')\n",
    "plt.ylabel('click_frequency (log scale)')\n",
    "plt.xticks(rotation=15)\n",
    "plt.tight_layout()\n",
    "plt.show()"
   ]
  }
 ],
 "metadata": {
  "kernelspec": {
   "display_name": "Python 3",
   "language": "python",
   "name": "python3"
  },
  "language_info": {
   "codemirror_mode": {
    "name": "ipython",
    "version": 3
   },
   "file_extension": ".py",
   "mimetype": "text/x-python",
   "name": "python",
   "nbconvert_exporter": "python",
   "pygments_lexer": "ipython3",
   "version": "3.10.7"
  }
 },
 "nbformat": 4,
 "nbformat_minor": 2
}
