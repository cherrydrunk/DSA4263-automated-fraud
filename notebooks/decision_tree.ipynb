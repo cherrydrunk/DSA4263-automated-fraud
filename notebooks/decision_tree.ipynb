{
 "cells": [
  {
   "cell_type": "code",
   "execution_count": 8,
   "metadata": {},
   "outputs": [],
   "source": [
    "import pandas as pd\n",
    "from sklearn.tree import DecisionTreeClassifier\n",
    "from sklearn.preprocessing import LabelEncoder\n",
    "from sklearn.metrics import accuracy_score, confusion_matrix, classification_report"
   ]
  },
  {
   "cell_type": "code",
   "execution_count": 9,
   "metadata": {},
   "outputs": [
    {
     "name": "stdout",
     "output_type": "stream",
     "text": [
      "/Users/antheaang/Desktop/dsa4263 /DSA4263-automated-fraud/notebooks\n"
     ]
    }
   ],
   "source": [
    "import os\n",
    "print(os.getcwd())"
   ]
  },
  {
   "cell_type": "code",
   "execution_count": 10,
   "metadata": {},
   "outputs": [
    {
     "data": {
      "text/html": [
       "<div>\n",
       "<style scoped>\n",
       "    .dataframe tbody tr th:only-of-type {\n",
       "        vertical-align: middle;\n",
       "    }\n",
       "\n",
       "    .dataframe tbody tr th {\n",
       "        vertical-align: top;\n",
       "    }\n",
       "\n",
       "    .dataframe thead th {\n",
       "        text-align: right;\n",
       "    }\n",
       "</style>\n",
       "<table border=\"1\" class=\"dataframe\">\n",
       "  <thead>\n",
       "    <tr style=\"text-align: right;\">\n",
       "      <th></th>\n",
       "      <th>entropy</th>\n",
       "      <th>clicks_count</th>\n",
       "      <th>durations</th>\n",
       "      <th>click_frequency</th>\n",
       "      <th>speed_cv</th>\n",
       "      <th>hover_frequency</th>\n",
       "      <th>avg_hover_duration</th>\n",
       "      <th>acceleration_mean</th>\n",
       "      <th>acceleration_std</th>\n",
       "      <th>acceleration_skewness</th>\n",
       "      <th>acceleration_pos_neg_ratio</th>\n",
       "      <th>direction_change_frequency</th>\n",
       "      <th>idle_active_ratio</th>\n",
       "      <th>time_afternoon</th>\n",
       "      <th>time_evening</th>\n",
       "      <th>time_morning</th>\n",
       "      <th>time_night</th>\n",
       "      <th>time_wee_hours</th>\n",
       "      <th>KNN Prediction</th>\n",
       "      <th>True Label</th>\n",
       "    </tr>\n",
       "  </thead>\n",
       "  <tbody>\n",
       "    <tr>\n",
       "      <th>0</th>\n",
       "      <td>-0.655538</td>\n",
       "      <td>-0.156923</td>\n",
       "      <td>-1.429112</td>\n",
       "      <td>1.397659</td>\n",
       "      <td>-0.761518</td>\n",
       "      <td>0.924815</td>\n",
       "      <td>-0.005883</td>\n",
       "      <td>0.902351</td>\n",
       "      <td>-1.024863</td>\n",
       "      <td>0.123380</td>\n",
       "      <td>1.224996</td>\n",
       "      <td>0.744609</td>\n",
       "      <td>-0.857226</td>\n",
       "      <td>1.351581</td>\n",
       "      <td>-0.456896</td>\n",
       "      <td>-0.744387</td>\n",
       "      <td>-0.420772</td>\n",
       "      <td>-0.118846</td>\n",
       "      <td>bot</td>\n",
       "      <td>bot</td>\n",
       "    </tr>\n",
       "    <tr>\n",
       "      <th>1</th>\n",
       "      <td>0.698889</td>\n",
       "      <td>-0.266259</td>\n",
       "      <td>-1.429112</td>\n",
       "      <td>0.872302</td>\n",
       "      <td>1.452376</td>\n",
       "      <td>-0.934238</td>\n",
       "      <td>-0.367982</td>\n",
       "      <td>0.069175</td>\n",
       "      <td>1.637779</td>\n",
       "      <td>-0.184886</td>\n",
       "      <td>-0.657948</td>\n",
       "      <td>-0.656709</td>\n",
       "      <td>-0.857226</td>\n",
       "      <td>-0.739874</td>\n",
       "      <td>-0.456896</td>\n",
       "      <td>-0.744387</td>\n",
       "      <td>2.376583</td>\n",
       "      <td>-0.118846</td>\n",
       "      <td>human</td>\n",
       "      <td>human</td>\n",
       "    </tr>\n",
       "    <tr>\n",
       "      <th>2</th>\n",
       "      <td>-1.385360</td>\n",
       "      <td>-0.320927</td>\n",
       "      <td>0.700444</td>\n",
       "      <td>-0.465040</td>\n",
       "      <td>-0.688507</td>\n",
       "      <td>1.051944</td>\n",
       "      <td>-0.494030</td>\n",
       "      <td>0.702442</td>\n",
       "      <td>-1.060693</td>\n",
       "      <td>2.558336</td>\n",
       "      <td>0.417644</td>\n",
       "      <td>0.460473</td>\n",
       "      <td>1.634258</td>\n",
       "      <td>-0.739874</td>\n",
       "      <td>-0.456896</td>\n",
       "      <td>1.343387</td>\n",
       "      <td>-0.420772</td>\n",
       "      <td>-0.118846</td>\n",
       "      <td>bot</td>\n",
       "      <td>bot</td>\n",
       "    </tr>\n",
       "    <tr>\n",
       "      <th>3</th>\n",
       "      <td>-0.541610</td>\n",
       "      <td>-0.238925</td>\n",
       "      <td>-1.429111</td>\n",
       "      <td>0.338231</td>\n",
       "      <td>-0.303115</td>\n",
       "      <td>-0.522901</td>\n",
       "      <td>0.048134</td>\n",
       "      <td>0.786227</td>\n",
       "      <td>-0.666761</td>\n",
       "      <td>-1.411023</td>\n",
       "      <td>0.582453</td>\n",
       "      <td>-0.638967</td>\n",
       "      <td>-0.857226</td>\n",
       "      <td>1.351581</td>\n",
       "      <td>-0.456896</td>\n",
       "      <td>-0.744387</td>\n",
       "      <td>-0.420772</td>\n",
       "      <td>-0.118846</td>\n",
       "      <td>bot</td>\n",
       "      <td>bot</td>\n",
       "    </tr>\n",
       "    <tr>\n",
       "      <th>4</th>\n",
       "      <td>-1.716048</td>\n",
       "      <td>-0.320927</td>\n",
       "      <td>0.700444</td>\n",
       "      <td>-0.465040</td>\n",
       "      <td>-1.063119</td>\n",
       "      <td>1.107620</td>\n",
       "      <td>-0.495586</td>\n",
       "      <td>0.820646</td>\n",
       "      <td>-1.173348</td>\n",
       "      <td>1.876954</td>\n",
       "      <td>0.236468</td>\n",
       "      <td>-0.109728</td>\n",
       "      <td>1.608131</td>\n",
       "      <td>-0.739874</td>\n",
       "      <td>-0.456896</td>\n",
       "      <td>1.343387</td>\n",
       "      <td>-0.420772</td>\n",
       "      <td>-0.118846</td>\n",
       "      <td>bot</td>\n",
       "      <td>bot</td>\n",
       "    </tr>\n",
       "  </tbody>\n",
       "</table>\n",
       "</div>"
      ],
      "text/plain": [
       "    entropy  clicks_count  durations  click_frequency  speed_cv  \\\n",
       "0 -0.655538     -0.156923  -1.429112         1.397659 -0.761518   \n",
       "1  0.698889     -0.266259  -1.429112         0.872302  1.452376   \n",
       "2 -1.385360     -0.320927   0.700444        -0.465040 -0.688507   \n",
       "3 -0.541610     -0.238925  -1.429111         0.338231 -0.303115   \n",
       "4 -1.716048     -0.320927   0.700444        -0.465040 -1.063119   \n",
       "\n",
       "   hover_frequency  avg_hover_duration  acceleration_mean  acceleration_std  \\\n",
       "0         0.924815           -0.005883           0.902351         -1.024863   \n",
       "1        -0.934238           -0.367982           0.069175          1.637779   \n",
       "2         1.051944           -0.494030           0.702442         -1.060693   \n",
       "3        -0.522901            0.048134           0.786227         -0.666761   \n",
       "4         1.107620           -0.495586           0.820646         -1.173348   \n",
       "\n",
       "   acceleration_skewness  acceleration_pos_neg_ratio  \\\n",
       "0               0.123380                    1.224996   \n",
       "1              -0.184886                   -0.657948   \n",
       "2               2.558336                    0.417644   \n",
       "3              -1.411023                    0.582453   \n",
       "4               1.876954                    0.236468   \n",
       "\n",
       "   direction_change_frequency  idle_active_ratio  time_afternoon  \\\n",
       "0                    0.744609          -0.857226        1.351581   \n",
       "1                   -0.656709          -0.857226       -0.739874   \n",
       "2                    0.460473           1.634258       -0.739874   \n",
       "3                   -0.638967          -0.857226        1.351581   \n",
       "4                   -0.109728           1.608131       -0.739874   \n",
       "\n",
       "   time_evening  time_morning  time_night  time_wee_hours KNN Prediction  \\\n",
       "0     -0.456896     -0.744387   -0.420772       -0.118846            bot   \n",
       "1     -0.456896     -0.744387    2.376583       -0.118846          human   \n",
       "2     -0.456896      1.343387   -0.420772       -0.118846            bot   \n",
       "3     -0.456896     -0.744387   -0.420772       -0.118846            bot   \n",
       "4     -0.456896      1.343387   -0.420772       -0.118846            bot   \n",
       "\n",
       "  True Label  \n",
       "0        bot  \n",
       "1      human  \n",
       "2        bot  \n",
       "3        bot  \n",
       "4        bot  "
      ]
     },
     "execution_count": 10,
     "metadata": {},
     "output_type": "execute_result"
    }
   ],
   "source": [
    "# Load KNN CSV\n",
    "knn_combined_df = pd.read_csv('../data/processed/knn_combined_df.csv')\n",
    "knn_combined_df.head()"
   ]
  },
  {
   "cell_type": "code",
   "execution_count": 11,
   "metadata": {},
   "outputs": [
    {
     "data": {
      "text/plain": [
       "array([0, 1, 0, 0, 0, 0, 1, 0, 0, 0, 0, 0, 1, 0, 0, 0, 0, 0, 0, 0, 0, 0,\n",
       "       0, 0, 0, 1, 1, 0, 0, 0, 0, 1, 1, 1, 0, 0, 0, 0, 1, 0, 0, 0, 0, 0,\n",
       "       0, 0, 0, 1, 0, 0, 1, 0, 0, 0, 0, 0, 0, 0, 0, 1, 1, 0, 0, 0, 1, 0,\n",
       "       0, 0, 0, 0, 0, 0, 0, 0, 0, 0, 0, 0, 1, 0, 1, 0, 0, 0, 0, 0, 0, 0,\n",
       "       0, 1])"
      ]
     },
     "execution_count": 11,
     "metadata": {},
     "output_type": "execute_result"
    }
   ],
   "source": [
    "le = LabelEncoder()\n",
    "\n",
    "# Encode the KNN predictions\n",
    "knn_combined_df['KNN Prediction Encoded'] = le.fit_transform(knn_combined_df['KNN Prediction'])\n",
    "\n",
    "le.fit_transform(knn_combined_df['KNN Prediction'])\n"
   ]
  },
  {
   "cell_type": "code",
   "execution_count": 12,
   "metadata": {},
   "outputs": [],
   "source": [
    "# Prepare features and labels\n",
    "# Drop the original KNN Prediction (string) and True Label (target)\n",
    "X_features = knn_combined_df.drop(columns=['KNN Prediction', 'True Label'])\n",
    "y_true = knn_combined_df['True Label']\n"
   ]
  },
  {
   "cell_type": "code",
   "execution_count": 13,
   "metadata": {},
   "outputs": [],
   "source": [
    "# Initialize Decision Tree\n",
    "dtree = DecisionTreeClassifier(max_depth=3, min_samples_leaf=2, random_state=42)\n",
    "dtree.fit(X_features, y_true)\n",
    "\n",
    "# 5. Predict and Evaluate\n",
    "y_pred_tree = dtree.predict(X_features)\n"
   ]
  },
  {
   "cell_type": "code",
   "execution_count": 14,
   "metadata": {},
   "outputs": [
    {
     "data": {
      "text/plain": [
       "array(['bot', 'human', 'bot', 'bot', 'bot', 'bot', 'human', 'bot', 'bot',\n",
       "       'bot', 'bot', 'bot', 'human', 'bot', 'bot', 'bot', 'bot', 'bot',\n",
       "       'bot', 'bot', 'bot', 'bot', 'bot', 'bot', 'bot', 'human', 'human',\n",
       "       'bot', 'bot', 'bot', 'bot', 'human', 'human', 'human', 'bot',\n",
       "       'bot', 'bot', 'bot', 'human', 'bot', 'bot', 'bot', 'bot', 'bot',\n",
       "       'bot', 'bot', 'bot', 'human', 'bot', 'bot', 'human', 'bot', 'bot',\n",
       "       'bot', 'bot', 'bot', 'bot', 'bot', 'bot', 'human', 'human', 'bot',\n",
       "       'bot', 'bot', 'human', 'bot', 'bot', 'bot', 'bot', 'bot', 'bot',\n",
       "       'bot', 'bot', 'bot', 'bot', 'bot', 'bot', 'bot', 'human', 'bot',\n",
       "       'human', 'bot', 'bot', 'bot', 'bot', 'bot', 'bot', 'bot', 'bot',\n",
       "       'human'], dtype=object)"
      ]
     },
     "execution_count": 14,
     "metadata": {},
     "output_type": "execute_result"
    }
   ],
   "source": [
    "y_pred_tree = dtree.predict(X_features)\n",
    "y_pred_tree "
   ]
  },
  {
   "cell_type": "code",
   "execution_count": 15,
   "metadata": {},
   "outputs": [
    {
     "name": "stdout",
     "output_type": "stream",
     "text": [
      "Decision Tree Ensemble Results:\n",
      "Accuracy: 1.00\n",
      "\n",
      "Classification Report:\n",
      "              precision    recall  f1-score   support\n",
      "\n",
      "         bot       1.00      1.00      1.00        73\n",
      "       human       1.00      1.00      1.00        17\n",
      "\n",
      "    accuracy                           1.00        90\n",
      "   macro avg       1.00      1.00      1.00        90\n",
      "weighted avg       1.00      1.00      1.00        90\n",
      "\n"
     ]
    }
   ],
   "source": [
    "print(\"Decision Tree Ensemble Results:\")\n",
    "print(f\"Accuracy: {accuracy_score(y_true, y_pred_tree):.2f}\")\n",
    "\n",
    "print(\"\\nClassification Report:\")\n",
    "print(classification_report(y_true, y_pred_tree))"
   ]
  },
  {
   "cell_type": "code",
   "execution_count": 16,
   "metadata": {},
   "outputs": [
    {
     "data": {
      "text/html": [
       "<div>\n",
       "<style scoped>\n",
       "    .dataframe tbody tr th:only-of-type {\n",
       "        vertical-align: middle;\n",
       "    }\n",
       "\n",
       "    .dataframe tbody tr th {\n",
       "        vertical-align: top;\n",
       "    }\n",
       "\n",
       "    .dataframe thead th {\n",
       "        text-align: right;\n",
       "    }\n",
       "</style>\n",
       "<table border=\"1\" class=\"dataframe\">\n",
       "  <thead>\n",
       "    <tr style=\"text-align: right;\">\n",
       "      <th></th>\n",
       "      <th>KNN Prediction</th>\n",
       "      <th>Decision Tree Prediction</th>\n",
       "      <th>True Label</th>\n",
       "    </tr>\n",
       "  </thead>\n",
       "  <tbody>\n",
       "    <tr>\n",
       "      <th>0</th>\n",
       "      <td>bot</td>\n",
       "      <td>bot</td>\n",
       "      <td>bot</td>\n",
       "    </tr>\n",
       "    <tr>\n",
       "      <th>1</th>\n",
       "      <td>human</td>\n",
       "      <td>human</td>\n",
       "      <td>human</td>\n",
       "    </tr>\n",
       "    <tr>\n",
       "      <th>2</th>\n",
       "      <td>bot</td>\n",
       "      <td>bot</td>\n",
       "      <td>bot</td>\n",
       "    </tr>\n",
       "    <tr>\n",
       "      <th>3</th>\n",
       "      <td>bot</td>\n",
       "      <td>bot</td>\n",
       "      <td>bot</td>\n",
       "    </tr>\n",
       "    <tr>\n",
       "      <th>4</th>\n",
       "      <td>bot</td>\n",
       "      <td>bot</td>\n",
       "      <td>bot</td>\n",
       "    </tr>\n",
       "  </tbody>\n",
       "</table>\n",
       "</div>"
      ],
      "text/plain": [
       "  KNN Prediction Decision Tree Prediction True Label\n",
       "0            bot                      bot        bot\n",
       "1          human                    human      human\n",
       "2            bot                      bot        bot\n",
       "3            bot                      bot        bot\n",
       "4            bot                      bot        bot"
      ]
     },
     "execution_count": 16,
     "metadata": {},
     "output_type": "execute_result"
    }
   ],
   "source": [
    "final_results_df = knn_combined_df.copy()\n",
    "\n",
    "final_results_df['Decision Tree Prediction'] = y_pred_tree\n",
    "\n",
    "# Rearrange columns \n",
    "final_results_df = final_results_df[[\n",
    "    # features\n",
    "    *[col for col in knn_combined_df.columns if col not in ['KNN Prediction', 'True Label', 'KNN Prediction Encoded']],\n",
    "    # model predictions\n",
    "    'KNN Prediction', \n",
    "    'Decision Tree Prediction',\n",
    "    'True Label'\n",
    "]]\n",
    "\n",
    "final_results_df = final_results_df[['KNN Prediction', 'Decision Tree Prediction', 'True Label']]\n",
    "\n",
    "# View\n",
    "final_results_df.head()"
   ]
  }
 ],
 "metadata": {
  "kernelspec": {
   "display_name": "Python 3",
   "language": "python",
   "name": "python3"
  },
  "language_info": {
   "codemirror_mode": {
    "name": "ipython",
    "version": 3
   },
   "file_extension": ".py",
   "mimetype": "text/x-python",
   "name": "python",
   "nbconvert_exporter": "python",
   "pygments_lexer": "ipython3",
   "version": "3.7.9"
  },
  "orig_nbformat": 4,
  "vscode": {
   "interpreter": {
    "hash": "aee8b7b246df8f9039afb4144a1f6fd8d2ca17a180786b69acc140d282b71a49"
   }
  }
 },
 "nbformat": 4,
 "nbformat_minor": 2
}
