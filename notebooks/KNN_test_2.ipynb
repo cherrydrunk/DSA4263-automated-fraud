{
 "cells": [
  {
   "cell_type": "code",
   "execution_count": 91,
   "metadata": {},
   "outputs": [],
   "source": [
    "import pandas as pd\n",
    "import numpy as np \n",
    "from sklearn.model_selection import train_test_split\n",
    "from sklearn.preprocessing import StandardScaler\n",
    "from sklearn.neighbors import KNeighborsClassifier\n",
    "from sklearn.metrics import accuracy_score\n",
    "# from sklearn.pipeline import make_pipeline\n",
    "from imblearn.pipeline import Pipeline \n",
    "from sklearn.model_selection import StratifiedKFold, cross_val_score\n",
    "from imblearn.over_sampling import SMOTE\n",
    "from imblearn.over_sampling import BorderlineSMOTE\n",
    "from imblearn.over_sampling import ADASYN\n",
    "from sklearn.model_selection import cross_validate\n"
   ]
  },
  {
   "cell_type": "code",
   "execution_count": 92,
   "metadata": {},
   "outputs": [],
   "source": [
    "data = pd.read_csv('../data/processed/data.csv')\n",
    "data = data.drop(columns='session_id')\n",
    "# data = data.drop(columns=['Unnamed: 0', 'url', 'referrer', 'session_id'])"
   ]
  },
  {
   "cell_type": "code",
   "execution_count": 93,
   "metadata": {},
   "outputs": [],
   "source": [
    "X = data[[column for column in list(data.columns) if column != 'label' and column != 'new_label' and column not in ['acceleration_pos_neg_ratio','acceleration_std', 'time_morning','durations','hover_frequency','speed_cv']]]\n",
    "y = data[['label']]"
   ]
  },
  {
   "cell_type": "markdown",
   "metadata": {},
   "source": [
    "#### Testing oversampling techniques"
   ]
  },
  {
   "cell_type": "markdown",
   "metadata": {},
   "source": [
    "#### 1. SMOTE"
   ]
  },
  {
   "cell_type": "markdown",
   "metadata": {},
   "source": [
    "Get target column"
   ]
  },
  {
   "cell_type": "code",
   "execution_count": 94,
   "metadata": {},
   "outputs": [
    {
     "name": "stdout",
     "output_type": "stream",
     "text": [
      "Validation Accuracy: 0.96\n",
      "Test Accuracy: 0.98\n"
     ]
    },
    {
     "name": "stderr",
     "output_type": "stream",
     "text": [
      "/Library/Frameworks/Python.framework/Versions/3.10/lib/python3.10/site-packages/sklearn/neighbors/_classification.py:233: DataConversionWarning: A column-vector y was passed when a 1d array was expected. Please change the shape of y to (n_samples,), for example using ravel().\n",
      "  return self._fit(X, y)\n"
     ]
    }
   ],
   "source": [
    "# Step 1: Split into train (60%) and temp (40%)\n",
    "X_train, X_temp, y_train, y_temp = train_test_split(\n",
    "    X, y, test_size=0.4, random_state=42, stratify=y)\n",
    "\n",
    "# Step 2: Split temp into validation (20%) and test (20%)\n",
    "X_val, X_test, y_val, y_test = train_test_split(\n",
    "    X_temp, y_temp, test_size=0.5, random_state=42, stratify=y_temp)\n",
    "\n",
    "# Step 3: Apply SMOTE only on the training set\n",
    "smote = SMOTE(random_state=42)\n",
    "X_train_resampled, y_train_resampled = smote.fit_resample(X_train, y_train)\n",
    "\n",
    "# Step 3: Standardize using only training data\n",
    "scaler = StandardScaler()\n",
    "X_train_resampled = scaler.fit_transform(X_train_resampled)\n",
    "X_val = scaler.transform(X_val)\n",
    "X_test= scaler.transform(X_test)\n",
    "\n",
    "# Initialize KNN classifier with k=3\n",
    "knn = KNeighborsClassifier(n_neighbors=3)\n",
    "\n",
    "# Train the model\n",
    "knn.fit(X_train_resampled, y_train_resampled)\n",
    "\n",
    "\n",
    "y_val_pred = knn.predict(X_val)\n",
    "val_accuracy = accuracy_score(y_val, y_val_pred)\n",
    "print(f'Validation Accuracy: {val_accuracy:.2f}')\n",
    "\n",
    "\n",
    "y_test_pred = knn.predict(X_test)\n",
    "test_accuracy= accuracy_score(y_test, y_test_pred)\n",
    "print(f'Test Accuracy: {test_accuracy:.2f}')"
   ]
  },
  {
   "cell_type": "markdown",
   "metadata": {},
   "source": [
    "#### With CV"
   ]
  },
  {
   "cell_type": "code",
   "execution_count": 95,
   "metadata": {},
   "outputs": [
    {
     "name": "stdout",
     "output_type": "stream",
     "text": [
      "CV Fold Accuracies (on training): [0.99442897 0.99164345 0.99164345 0.99442897 0.98888889]\n",
      "Mean CV Accuracy: 0.9922 ± 0.0021\n",
      "CV Fold Accuracies (on test): [0.97777778 0.98888889 0.96666667 1.         0.94382022]\n",
      "Mean CV Accuracy: 0.9754 ± 0.0193\n"
     ]
    },
    {
     "name": "stderr",
     "output_type": "stream",
     "text": [
      "/Library/Frameworks/Python.framework/Versions/3.10/lib/python3.10/site-packages/sklearn/neighbors/_classification.py:233: DataConversionWarning: A column-vector y was passed when a 1d array was expected. Please change the shape of y to (n_samples,), for example using ravel().\n",
      "  return self._fit(X, y)\n",
      "/Library/Frameworks/Python.framework/Versions/3.10/lib/python3.10/site-packages/sklearn/neighbors/_classification.py:233: DataConversionWarning: A column-vector y was passed when a 1d array was expected. Please change the shape of y to (n_samples,), for example using ravel().\n",
      "  return self._fit(X, y)\n",
      "/Library/Frameworks/Python.framework/Versions/3.10/lib/python3.10/site-packages/sklearn/neighbors/_classification.py:233: DataConversionWarning: A column-vector y was passed when a 1d array was expected. Please change the shape of y to (n_samples,), for example using ravel().\n",
      "  return self._fit(X, y)\n",
      "/Library/Frameworks/Python.framework/Versions/3.10/lib/python3.10/site-packages/sklearn/neighbors/_classification.py:233: DataConversionWarning: A column-vector y was passed when a 1d array was expected. Please change the shape of y to (n_samples,), for example using ravel().\n",
      "  return self._fit(X, y)\n",
      "/Library/Frameworks/Python.framework/Versions/3.10/lib/python3.10/site-packages/sklearn/neighbors/_classification.py:233: DataConversionWarning: A column-vector y was passed when a 1d array was expected. Please change the shape of y to (n_samples,), for example using ravel().\n",
      "  return self._fit(X, y)\n"
     ]
    }
   ],
   "source": [
    "# Define KNN model with preprocessing pipeline\n",
    "# StandardScaler is usually helpful for KNN\n",
    "knn_pipe = Pipeline([('scaler', StandardScaler()), ('smote', SMOTE(random_state=42)), ('knn', KNeighborsClassifier())])\n",
    "\n",
    "# K-Fold setup\n",
    "kfold = StratifiedKFold(n_splits=5, shuffle=True, random_state=42)\n",
    "\n",
    "# cv_scores = cross_val_score(knn_pipe, X_train, y_train, cv=kfold, scoring='accuracy')\n",
    "\n",
    "# print(f\"CV Fold Accuracies (on training): {cv_scores}\")\n",
    "# print(f\"Mean CV Accuracy: {np.mean(cv_scores):.4f} ± {np.std(cv_scores):.4f}\")\n",
    "\n",
    "# Step 5: Fit model on full training set\n",
    "# knn_pipe.fit(X_train_resampled, y_train_resampled)\n",
    "\n",
    "# Step 6: Evaluate on validation set\n",
    "# scores = cross_val_score(knn_pipe, X, y, cv=kfold, scoring='accuracy')\n",
    "scores = cross_validate(knn_pipe, X, y, cv=kfold, scoring='accuracy', return_train_score=True)\n",
    "print(f\"CV Fold Accuracies (on training): {scores['train_score']}\")\n",
    "print(f\"Mean CV Accuracy: {np.mean(scores['train_score']):.4f} ± {np.std(scores['train_score']):.4f}\")\n",
    "print(f\"CV Fold Accuracies (on test): {scores['test_score']}\")\n",
    "print(f\"Mean CV Accuracy: {np.mean(scores['test_score']):.4f} ± {np.std(scores['test_score']):.4f}\")\n",
    "\n",
    "\n",
    "# Step 7: Final evaluation on test set (optional, only after model selection)\n",
    "# test_accuracy_smote = knn_smote_pipe.score(X_test, y_test)\n",
    "# print(f\"Test Accuracy: {test_accuracy_smote:.4f}\")"
   ]
  },
  {
   "cell_type": "markdown",
   "metadata": {},
   "source": [
    "#### 2. Borderline SMOTE"
   ]
  },
  {
   "cell_type": "code",
   "execution_count": 96,
   "metadata": {},
   "outputs": [
    {
     "name": "stdout",
     "output_type": "stream",
     "text": [
      "Validation Accuracy: 0.94\n",
      "Test Accuracy: 0.99\n"
     ]
    },
    {
     "name": "stderr",
     "output_type": "stream",
     "text": [
      "/Library/Frameworks/Python.framework/Versions/3.10/lib/python3.10/site-packages/sklearn/neighbors/_classification.py:233: DataConversionWarning: A column-vector y was passed when a 1d array was expected. Please change the shape of y to (n_samples,), for example using ravel().\n",
      "  return self._fit(X, y)\n"
     ]
    }
   ],
   "source": [
    "# Step 1: Split into train (60%) and temp (40%)\n",
    "X_train, X_temp, y_train, y_temp = train_test_split(\n",
    "    X, y, test_size=0.4, random_state=42, stratify=y)\n",
    "\n",
    "# Step 2: Split temp into validation (20%) and test (20%)\n",
    "X_val, X_test, y_val, y_test = train_test_split(\n",
    "    X_temp, y_temp, test_size=0.5, random_state=42, stratify=y_temp)\n",
    "\n",
    "# Step 3: Apply SMOTE only on the training set\n",
    "bsmote = BorderlineSMOTE(random_state=42)\n",
    "X_train_resampled, y_train_resampled = bsmote.fit_resample(X_train, y_train)\n",
    "\n",
    "# Step 3: Standardize using only training data\n",
    "scaler = StandardScaler()\n",
    "X_train_resampled = scaler.fit_transform(X_train_resampled)\n",
    "X_val = scaler.transform(X_val)\n",
    "X_test= scaler.transform(X_test)\n",
    "\n",
    "# Initialize KNN classifier with k=3\n",
    "knn = KNeighborsClassifier(n_neighbors=3)\n",
    "\n",
    "# Train the model\n",
    "knn.fit(X_train_resampled, y_train_resampled)\n",
    "\n",
    "\n",
    "y_val_pred = knn.predict(X_val)\n",
    "val_accuracy = accuracy_score(y_val, y_val_pred)\n",
    "print(f'Validation Accuracy: {val_accuracy:.2f}')\n",
    "\n",
    "\n",
    "y_test_pred = knn.predict(X_test)\n",
    "test_accuracy= accuracy_score(y_test, y_test_pred)\n",
    "print(f'Test Accuracy: {test_accuracy:.2f}')"
   ]
  },
  {
   "cell_type": "markdown",
   "metadata": {},
   "source": [
    "#### With CV"
   ]
  },
  {
   "cell_type": "code",
   "execution_count": 97,
   "metadata": {},
   "outputs": [
    {
     "name": "stderr",
     "output_type": "stream",
     "text": [
      "/Library/Frameworks/Python.framework/Versions/3.10/lib/python3.10/site-packages/sklearn/neighbors/_classification.py:233: DataConversionWarning: A column-vector y was passed when a 1d array was expected. Please change the shape of y to (n_samples,), for example using ravel().\n",
      "  return self._fit(X, y)\n",
      "/Library/Frameworks/Python.framework/Versions/3.10/lib/python3.10/site-packages/sklearn/neighbors/_classification.py:233: DataConversionWarning: A column-vector y was passed when a 1d array was expected. Please change the shape of y to (n_samples,), for example using ravel().\n",
      "  return self._fit(X, y)\n",
      "/Library/Frameworks/Python.framework/Versions/3.10/lib/python3.10/site-packages/sklearn/neighbors/_classification.py:233: DataConversionWarning: A column-vector y was passed when a 1d array was expected. Please change the shape of y to (n_samples,), for example using ravel().\n",
      "  return self._fit(X, y)\n",
      "/Library/Frameworks/Python.framework/Versions/3.10/lib/python3.10/site-packages/sklearn/neighbors/_classification.py:233: DataConversionWarning: A column-vector y was passed when a 1d array was expected. Please change the shape of y to (n_samples,), for example using ravel().\n",
      "  return self._fit(X, y)\n"
     ]
    },
    {
     "name": "stdout",
     "output_type": "stream",
     "text": [
      "CV Fold Accuracies (on training): [0.98885794 0.99721448 0.99164345 0.99442897 0.99444444]\n",
      "Mean CV Accuracy: 0.9933 ± 0.0028\n",
      "CV Fold Accuracies (on test): [0.97777778 0.98888889 0.98888889 1.         0.95505618]\n",
      "Mean CV Accuracy: 0.9821 ± 0.0152\n"
     ]
    },
    {
     "name": "stderr",
     "output_type": "stream",
     "text": [
      "/Library/Frameworks/Python.framework/Versions/3.10/lib/python3.10/site-packages/sklearn/neighbors/_classification.py:233: DataConversionWarning: A column-vector y was passed when a 1d array was expected. Please change the shape of y to (n_samples,), for example using ravel().\n",
      "  return self._fit(X, y)\n"
     ]
    }
   ],
   "source": [
    "# Define KNN model with preprocessing pipeline\n",
    "# StandardScaler is usually helpful for KNN\n",
    "knn_pipe = Pipeline([('scaler', StandardScaler()), ('borderline_smote', BorderlineSMOTE(random_state=42)), ('knn', KNeighborsClassifier())])\n",
    "\n",
    "# K-Fold setup\n",
    "kfold = StratifiedKFold(n_splits=5, shuffle=True, random_state=42)\n",
    "\n",
    "# cv_scores = cross_val_score(knn_pipe, X_train, y_train, cv=kfold, scoring='accuracy')\n",
    "\n",
    "# print(f\"CV Fold Accuracies (on training): {cv_scores}\")\n",
    "# print(f\"Mean CV Accuracy: {np.mean(cv_scores):.4f} ± {np.std(cv_scores):.4f}\")\n",
    "\n",
    "# Step 5: Fit model on full training set\n",
    "# knn_pipe.fit(X_train_resampled, y_train_resampled)\n",
    "\n",
    "# Step 6: Evaluate on validation set\n",
    "# scores = cross_val_score(knn_pipe, X, y, cv=kfold, scoring='accuracy')\n",
    "scores = cross_validate(knn_pipe, X, y, cv=kfold, scoring='accuracy', return_train_score=True)\n",
    "print(f\"CV Fold Accuracies (on training): {scores['train_score']}\")\n",
    "print(f\"Mean CV Accuracy: {np.mean(scores['train_score']):.4f} ± {np.std(scores['train_score']):.4f}\")\n",
    "print(f\"CV Fold Accuracies (on test): {scores['test_score']}\")\n",
    "print(f\"Mean CV Accuracy: {np.mean(scores['test_score']):.4f} ± {np.std(scores['test_score']):.4f}\")\n",
    "\n",
    "\n",
    "# Step 7: Final evaluation on test set (optional, only after model selection)\n",
    "# test_accuracy_smote = knn_smote_pipe.score(X_test, y_test)\n",
    "# print(f\"Test Accuracy: {test_accuracy_smote:.4f}\")"
   ]
  },
  {
   "cell_type": "markdown",
   "metadata": {},
   "source": [
    "#### 3. ADASYN"
   ]
  },
  {
   "cell_type": "code",
   "execution_count": 98,
   "metadata": {},
   "outputs": [
    {
     "name": "stdout",
     "output_type": "stream",
     "text": [
      "Validation Accuracy: 0.96\n",
      "Test Accuracy: 0.98\n"
     ]
    },
    {
     "name": "stderr",
     "output_type": "stream",
     "text": [
      "/Library/Frameworks/Python.framework/Versions/3.10/lib/python3.10/site-packages/sklearn/neighbors/_classification.py:233: DataConversionWarning: A column-vector y was passed when a 1d array was expected. Please change the shape of y to (n_samples,), for example using ravel().\n",
      "  return self._fit(X, y)\n"
     ]
    }
   ],
   "source": [
    "# Step 1: Split into train (60%) and temp (40%)\n",
    "X_train, X_temp, y_train, y_temp = train_test_split(\n",
    "    X, y, test_size=0.4, random_state=42, stratify=y)\n",
    "\n",
    "# Step 2: Split temp into validation (20%) and test (20%)\n",
    "X_val, X_test, y_val, y_test = train_test_split(\n",
    "    X_temp, y_temp, test_size=0.5, random_state=42, stratify=y_temp)\n",
    "\n",
    "# Step 3: Apply ADASYN only on the training set\n",
    "# adasyn = ADASYN(sampling_strategy={'human':500,'advanced_bot':500,'moderate_bot':500}, random_state=42)\n",
    "adasyn = ADASYN(sampling_strategy='minority',random_state=42)\n",
    "X_train_resampled, y_train_resampled = adasyn.fit_resample(X_train, y_train)\n",
    "\n",
    "# Step 3: Standardize using only training data\n",
    "scaler = StandardScaler()\n",
    "X_train_resampled = scaler.fit_transform(X_train_resampled)\n",
    "X_val = scaler.transform(X_val)\n",
    "X_test= scaler.transform(X_test)\n",
    "\n",
    "# Initialize KNN classifier with k=3\n",
    "knn = KNeighborsClassifier(n_neighbors=3)\n",
    "\n",
    "# Train the model\n",
    "knn.fit(X_train_resampled, y_train_resampled)\n",
    "\n",
    "\n",
    "y_val_pred = knn.predict(X_val)\n",
    "val_accuracy = accuracy_score(y_val, y_val_pred)\n",
    "print(f'Validation Accuracy: {val_accuracy:.2f}')\n",
    "\n",
    "\n",
    "y_test_pred = knn.predict(X_test)\n",
    "test_accuracy= accuracy_score(y_test, y_test_pred)\n",
    "print(f'Test Accuracy: {test_accuracy:.2f}')"
   ]
  },
  {
   "cell_type": "markdown",
   "metadata": {},
   "source": [
    "#### With CV"
   ]
  },
  {
   "cell_type": "code",
   "execution_count": 99,
   "metadata": {},
   "outputs": [
    {
     "name": "stderr",
     "output_type": "stream",
     "text": [
      "/Library/Frameworks/Python.framework/Versions/3.10/lib/python3.10/site-packages/sklearn/neighbors/_classification.py:233: DataConversionWarning: A column-vector y was passed when a 1d array was expected. Please change the shape of y to (n_samples,), for example using ravel().\n",
      "  return self._fit(X, y)\n",
      "/Library/Frameworks/Python.framework/Versions/3.10/lib/python3.10/site-packages/sklearn/neighbors/_classification.py:233: DataConversionWarning: A column-vector y was passed when a 1d array was expected. Please change the shape of y to (n_samples,), for example using ravel().\n",
      "  return self._fit(X, y)\n",
      "/Library/Frameworks/Python.framework/Versions/3.10/lib/python3.10/site-packages/sklearn/neighbors/_classification.py:233: DataConversionWarning: A column-vector y was passed when a 1d array was expected. Please change the shape of y to (n_samples,), for example using ravel().\n",
      "  return self._fit(X, y)\n",
      "/Library/Frameworks/Python.framework/Versions/3.10/lib/python3.10/site-packages/sklearn/neighbors/_classification.py:233: DataConversionWarning: A column-vector y was passed when a 1d array was expected. Please change the shape of y to (n_samples,), for example using ravel().\n",
      "  return self._fit(X, y)\n",
      "/Library/Frameworks/Python.framework/Versions/3.10/lib/python3.10/site-packages/sklearn/neighbors/_classification.py:233: DataConversionWarning: A column-vector y was passed when a 1d array was expected. Please change the shape of y to (n_samples,), for example using ravel().\n",
      "  return self._fit(X, y)\n"
     ]
    },
    {
     "name": "stdout",
     "output_type": "stream",
     "text": [
      "CV Fold Accuracies (on training): [0.99752475 0.99752475 0.99752475 0.99752475 0.99752475 0.99752475\n",
      " 0.9950495  0.99752475 0.99752475 0.99506173]\n",
      "Mean CV Accuracy: 0.9970 ± 0.0010\n",
      "CV Fold Accuracies (on test): [1.         0.97777778 0.97777778 1.         1.         1.\n",
      " 1.         1.         0.97777778 1.        ]\n",
      "Mean CV Accuracy: 0.9933 ± 0.0102\n"
     ]
    },
    {
     "name": "stderr",
     "output_type": "stream",
     "text": [
      "/Library/Frameworks/Python.framework/Versions/3.10/lib/python3.10/site-packages/sklearn/neighbors/_classification.py:233: DataConversionWarning: A column-vector y was passed when a 1d array was expected. Please change the shape of y to (n_samples,), for example using ravel().\n",
      "  return self._fit(X, y)\n",
      "/Library/Frameworks/Python.framework/Versions/3.10/lib/python3.10/site-packages/sklearn/neighbors/_classification.py:233: DataConversionWarning: A column-vector y was passed when a 1d array was expected. Please change the shape of y to (n_samples,), for example using ravel().\n",
      "  return self._fit(X, y)\n",
      "/Library/Frameworks/Python.framework/Versions/3.10/lib/python3.10/site-packages/sklearn/neighbors/_classification.py:233: DataConversionWarning: A column-vector y was passed when a 1d array was expected. Please change the shape of y to (n_samples,), for example using ravel().\n",
      "  return self._fit(X, y)\n",
      "/Library/Frameworks/Python.framework/Versions/3.10/lib/python3.10/site-packages/sklearn/neighbors/_classification.py:233: DataConversionWarning: A column-vector y was passed when a 1d array was expected. Please change the shape of y to (n_samples,), for example using ravel().\n",
      "  return self._fit(X, y)\n",
      "/Library/Frameworks/Python.framework/Versions/3.10/lib/python3.10/site-packages/sklearn/neighbors/_classification.py:233: DataConversionWarning: A column-vector y was passed when a 1d array was expected. Please change the shape of y to (n_samples,), for example using ravel().\n",
      "  return self._fit(X, y)\n"
     ]
    }
   ],
   "source": [
    "# Define KNN model with preprocessing pipeline\n",
    "# StandardScaler is usually helpful for KNN\n",
    "knn_pipe = Pipeline([('scaler', StandardScaler()), ('adasyn', ADASYN(sampling_strategy='minority',random_state=42)), ('knn', KNeighborsClassifier())])\n",
    "\n",
    "# K-Fold setup\n",
    "kfold = StratifiedKFold(n_splits=10, shuffle=True, random_state=42)\n",
    "\n",
    "# cv_scores = cross_val_score(knn_pipe, X_train, y_train, cv=kfold, scoring='accuracy')\n",
    "\n",
    "# print(f\"CV Fold Accuracies (on training): {cv_scores}\")\n",
    "# print(f\"Mean CV Accuracy: {np.mean(cv_scores):.4f} ± {np.std(cv_scores):.4f}\")\n",
    "\n",
    "# Step 5: Fit model on full training set\n",
    "# knn_pipe.fit(X_train_resampled, y_train_resampled)\n",
    "\n",
    "# Step 6: Evaluate on validation set\n",
    "# scores = cross_val_score(knn_pipe, X, y, cv=kfold, scoring='accuracy')\n",
    "scores = cross_validate(knn_pipe, X, y, cv=kfold, scoring='accuracy', return_train_score=True)\n",
    "print(f\"CV Fold Accuracies (on training): {scores['train_score']}\")\n",
    "print(f\"Mean CV Accuracy: {np.mean(scores['train_score']):.4f} ± {np.std(scores['train_score']):.4f}\")\n",
    "print(f\"CV Fold Accuracies (on test): {scores['test_score']}\")\n",
    "print(f\"Mean CV Accuracy: {np.mean(scores['test_score']):.4f} ± {np.std(scores['test_score']):.4f}\")\n",
    "\n",
    "# Step 7: Final evaluation on test set (optional, only after model selection)\n",
    "# test_accuracy_smote = knn_smote_pipe.score(X_test, y_test)\n",
    "# print(f\"Test Accuracy: {test_accuracy_smote:.4f}\")"
   ]
  }
 ],
 "metadata": {
  "kernelspec": {
   "display_name": "Python 3",
   "language": "python",
   "name": "python3"
  },
  "language_info": {
   "codemirror_mode": {
    "name": "ipython",
    "version": 3
   },
   "file_extension": ".py",
   "mimetype": "text/x-python",
   "name": "python",
   "nbconvert_exporter": "python",
   "pygments_lexer": "ipython3",
   "version": "3.10.7"
  }
 },
 "nbformat": 4,
 "nbformat_minor": 2
}
