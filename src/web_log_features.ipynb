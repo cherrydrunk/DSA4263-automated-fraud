{
 "cells": [
  {
   "cell_type": "markdown",
   "metadata": {},
   "source": [
    "# Feature Engineering of Weblog data\n",
    "1. count of Days of Week where session happened\n",
    "2. count of Time of Day ('awake' - 6am-11pm , 'sleep' - 12am-5am)\n",
    "3. most frequent site/url\n",
    "4. most frequent referral\n",
    "5. percentage of each type of method used\n",
    "6. percentage of each type of status \n",
    "7. average byte size"
   ]
  },
  {
   "cell_type": "code",
   "execution_count": 5,
   "metadata": {},
   "outputs": [],
   "source": [
    "import pandas as pd\n",
    "import zipfile\n",
    "import datetime as dt"
   ]
  },
  {
   "cell_type": "code",
   "execution_count": null,
   "metadata": {},
   "outputs": [],
   "source": [
    "zip_path = r'../data/interim/weblog_p1p2.zip'  \n",
    "extract_folder = r'../data/interim/weblog/'\n",
    "\n",
    "# Unzip the file\n",
    "with zipfile.ZipFile(zip_path, 'r') as zip_ref:\n",
    "    zip_ref.extractall(extract_folder)"
   ]
  },
  {
   "cell_type": "code",
   "execution_count": 23,
   "metadata": {},
   "outputs": [],
   "source": [
    "weblog_df = pd.read_csv(extract_folder + 'weblog_p1p2.csv', parse_dates=[\"datetime\"])"
   ]
  },
  {
   "cell_type": "code",
   "execution_count": 24,
   "metadata": {},
   "outputs": [],
   "source": [
    "weblog_df[\"day_of_week\"] = weblog_df[\"datetime\"].dt.day_name()\n",
    "weblog_df[\"hour\"] = weblog_df[\"datetime\"].dt.hour\n",
    "weblog_df[\"time_category\"] = weblog_df[\"hour\"].apply(lambda x: \"awake\" if 6 <= x <= 23 else \"sleep\")"
   ]
  },
  {
   "cell_type": "code",
   "execution_count": 33,
   "metadata": {},
   "outputs": [],
   "source": [
    "# Pivot `method` and `status` to one-hot encoding\n",
    "method_pivot = pd.crosstab(weblog_df[\"Session_ID\"], weblog_df[\"method\"]).reset_index()\n",
    "status_pivot = pd.crosstab(weblog_df[\"Session_ID\"], weblog_df[\"status\"]).reset_index()\n",
    "\n",
    "# Pivot `day_of_week` and `time_category`\n",
    "days_pivot = pd.crosstab(weblog_df[\"Session_ID\"], weblog_df[\"day_of_week\"]).reset_index()\n",
    "time_pivot = pd.crosstab(weblog_df[\"Session_ID\"], weblog_df[\"time_category\"]).reset_index()\n",
    "\n",
    "test = pd.concat([method_pivot, status_pivot, days_pivot, time_pivot], axis=1)"
   ]
  },
  {
   "cell_type": "code",
   "execution_count": 31,
   "metadata": {},
   "outputs": [],
   "source": [
    "# Group by Session_ID\n",
    "session_grouped = weblog_df.groupby(['Session_ID','category']).agg(\n",
    "    url = ('url', lambda x: x.mode()[0]), # Most frequent URL per session\n",
    "    referrer = ('referrer', lambda x: x.mode()[0]),  # Most frequent referrer per session\n",
    "    byte_size = ('byte_size', 'mean'),  # Average byte size per session\n",
    ").reset_index()\n",
    "\n",
    "final_df = (\n",
    "    session_grouped\n",
    "    .merge(method_pivot, on=\"Session_ID\", how=\"left\")\n",
    "    .merge(status_pivot, on=\"Session_ID\", how=\"left\")\n",
    "    .merge(days_pivot, on=\"Session_ID\", how=\"left\")\n",
    "    .merge(time_pivot, on=\"Session_ID\", how=\"left\")\n",
    "    .fillna(0)\n",
    ")"
   ]
  }
 ],
 "metadata": {
  "kernelspec": {
   "display_name": "Python 3",
   "language": "python",
   "name": "python3"
  },
  "language_info": {
   "codemirror_mode": {
    "name": "ipython",
    "version": 3
   },
   "file_extension": ".py",
   "mimetype": "text/x-python",
   "name": "python",
   "nbconvert_exporter": "python",
   "pygments_lexer": "ipython3",
   "version": "3.10.7"
  }
 },
 "nbformat": 4,
 "nbformat_minor": 2
}
