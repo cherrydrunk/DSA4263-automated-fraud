{
 "cells": [
  {
   "cell_type": "code",
   "execution_count": 10,
   "metadata": {},
   "outputs": [],
   "source": [
    "import re\n",
    "import pandas as pd\n",
    "import os"
   ]
  },
  {
   "cell_type": "code",
   "execution_count": 11,
   "metadata": {},
   "outputs": [],
   "source": [
    "current_directory = os.getcwd()"
   ]
  },
  {
   "cell_type": "code",
   "execution_count": 15,
   "metadata": {},
   "outputs": [],
   "source": [
    "base_dir_phase1 = '../../data/raw/web_bot_detection_dataset/web_bot_detection_dataset/phase1/data/web_logs'\n",
    "base_dir_phase2 = '../../data/raw/web_bot_detection_dataset/web_bot_detection_dataset/phase2/data/web_logs'"
   ]
  },
  {
   "cell_type": "code",
   "execution_count": 13,
   "metadata": {},
   "outputs": [],
   "source": [
    "def web_log_df(directory):\n",
    "    humans_web_log_dir = directory + '/humans'\n",
    "    bots_web_log_dir = directory + '/bots'\n",
    "    log_pattern = re.compile(\n",
    "        r'- - \\[(?P<datetime>[^]]+)\\] \"(?P<method>\\S+) (?P<url>\\S+) (?P<protocol>\\S+)\" (?P<status>\\d+) (?P<byte_size>\\d+) \"(?P<referrer>[^\"]*)\" (?P<Session_ID>\\S+) \"(?P<user_agent>[^\"]+)\"'\n",
    "    )\n",
    "    parsed_logs = []\n",
    "    for i in [humans_web_log_dir,bots_web_log_dir]:\n",
    "        if i == humans_web_log_dir:\n",
    "            label = \"humans\" \n",
    "        else:\n",
    "            label = \"bots\"\n",
    "        for log in os.listdir(i):\n",
    "            with open(i + '/' + log, 'r') as file:\n",
    "                log_entries = file.readlines()\n",
    "\n",
    "            for log in log_entries:\n",
    "                match = log_pattern.match(log)\n",
    "                if match:\n",
    "                    log_data = match.groupdict()\n",
    "                    log_data[\"category\"] = label \n",
    "                    parsed_logs.append(log_data)\n",
    "\n",
    "    df = pd.DataFrame(parsed_logs)\n",
    "    df['datetime'] = pd.to_datetime(df['datetime'], format=\"%d/%b/%Y:%H:%M:%S %z\").dt.tz_localize(None)\n",
    "    return df\n",
    "\n"
   ]
  },
  {
   "cell_type": "code",
   "execution_count": 16,
   "metadata": {},
   "outputs": [],
   "source": [
    "web_log_phase1 = web_log_df(base_dir_phase1)\n",
    "web_log_phase2 = web_log_df(base_dir_phase2)\n",
    "\n",
    "\n",
    "web_log_phase1.to_csv('../../data/interim/web_log_phase1.csv', index=False)\n",
    "web_log_phase2.to_csv('../../data/interim/web_log_phase2.csv', index=False)"
   ]
  }
 ],
 "metadata": {
  "kernelspec": {
   "display_name": "Python 3",
   "language": "python",
   "name": "python3"
  },
  "language_info": {
   "codemirror_mode": {
    "name": "ipython",
    "version": 3
   },
   "file_extension": ".py",
   "mimetype": "text/x-python",
   "name": "python",
   "nbconvert_exporter": "python",
   "pygments_lexer": "ipython3",
   "version": "3.10.7"
  }
 },
 "nbformat": 4,
 "nbformat_minor": 2
}
