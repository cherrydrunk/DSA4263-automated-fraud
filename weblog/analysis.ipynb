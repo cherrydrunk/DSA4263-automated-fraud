{
 "cells": [
  {
   "cell_type": "code",
   "execution_count": null,
   "metadata": {},
   "outputs": [],
   "source": [
    "import pandas as pd\n",
    "import matplotlib.pyplot as plt"
   ]
  },
  {
   "cell_type": "code",
   "execution_count": 46,
   "metadata": {},
   "outputs": [],
   "source": [
    "# Basic statistics\n",
    "def analyze_requests(df):\n",
    "    print(\"Total Requests:\", len(df))\n",
    "    print(\"Unique Sessions:\", df['Session_ID'].nunique())\n",
    "    print(\"Categories:\", df['category'].value_counts())\n",
    "\n",
    "# Compare humans vs bots\n",
    "def compare_humans_bots(df):\n",
    "    df['datetime'] = pd.to_datetime(df['datetime'], errors='coerce')\n",
    "    df = df.sort_values(by=['Session_ID', 'datetime'])\n",
    "    human_df = df[df['category'] == 'humans']\n",
    "    bot_df = df[df['category'] == 'bots']\n",
    "    \n",
    "    print(\"\\nAverage Requests per Session:\")\n",
    "    print(\"Humans:\", human_df.groupby('Session_ID').size().mean())\n",
    "    print(\"Bots:\", bot_df.groupby('Session_ID').size().mean())\n",
    "\n",
    "    print(\"\\nAverage Duration Between Requests:\")\n",
    "    human_time_diff = []\n",
    "    for _, group in human_df.groupby('Session_ID'):\n",
    "        time_diff = group['datetime'].diff().dropna()  \n",
    "        human_time_diff.extend(time_diff)\n",
    "    bot_time_diff = []\n",
    "    for _, group in bot_df.groupby('Session_ID'):\n",
    "        time_diff = group['datetime'].diff().dropna()  \n",
    "        bot_time_diff.extend(time_diff)\n",
    "    print(\"Humans:\", pd.to_timedelta(human_time_diff).mean())\n",
    "    print(\"Bots:\", pd.to_timedelta(bot_time_diff).mean())\n",
    "\n",
    "    print(\"\\nRequest Type Distribution:\")\n",
    "    print(\"Humans:\", (human_df['method'].value_counts(normalize=True) * 100).round(2))\n",
    "    print(\"Bots:\", (bot_df['method'].value_counts(normalize=True) * 100).round(2))\n",
    "\n",
    "    print(\"\\nReferrer Presence:\")\n",
    "    print(\"Humans:\", (human_df['referrer'].str.strip() != '-').mean())\n",
    "    print(\"Bots:\", (bot_df['referrer'].str.strip() != '-').mean())"
   ]
  },
  {
   "cell_type": "code",
   "execution_count": 47,
   "metadata": {},
   "outputs": [
    {
     "name": "stdout",
     "output_type": "stream",
     "text": [
      "Total Requests: 96234\n",
      "Unique Sessions: 446\n",
      "Categories: category\n",
      "humans    57389\n",
      "bots      38845\n",
      "Name: count, dtype: int64\n",
      "\n",
      "Average Requests per Session:\n",
      "Humans: 217.38257575757575\n",
      "Bots: 211.1141304347826\n",
      "\n",
      "Average Duration Between Requests:\n",
      "Humans: 0 days 00:00:10.945873085\n",
      "Bots: 0 days 00:00:06.712009518\n",
      "\n",
      "Request Type Distribution:\n",
      "Humans: method\n",
      "POST       85.82\n",
      "GET        13.44\n",
      "OPTIONS     0.73\n",
      "CONNECT     0.01\n",
      "HEAD        0.00\n",
      "Name: proportion, dtype: float64\n",
      "Bots: method\n",
      "POST       80.89\n",
      "GET        17.99\n",
      "OPTIONS     1.11\n",
      "Name: proportion, dtype: float64\n",
      "\n",
      "Referrer Presence:\n",
      "Humans: 0.9859729216400356\n",
      "Bots: 0.9832668297078131\n"
     ]
    }
   ],
   "source": [
    "# Run analysis for phase 1 data\n",
    "file_path_1 = \"data/interim/web_log_phase1.csv\"\n",
    "df1 = pd.read_csv(file_path_1, parse_dates=[\"datetime\"])\n",
    "analyze_requests(df1)\n",
    "compare_humans_bots(df1)"
   ]
  },
  {
   "cell_type": "code",
   "execution_count": 48,
   "metadata": {},
   "outputs": [
    {
     "name": "stdout",
     "output_type": "stream",
     "text": [
      "Total Requests: 209138\n",
      "Unique Sessions: 369\n",
      "Categories: category\n",
      "humans    156786\n",
      "bots       52352\n",
      "Name: count, dtype: int64\n",
      "\n",
      "Average Requests per Session:\n",
      "Humans: 1224.890625\n",
      "Bots: 216.3305785123967\n",
      "\n",
      "Average Duration Between Requests:\n",
      "Humans: 0 days 00:02:53.917769919\n",
      "Bots: 0 days 00:00:01.772270197\n",
      "\n",
      "Request Type Distribution:\n",
      "Humans: method\n",
      "POST       95.80\n",
      "GET         4.06\n",
      "OPTIONS     0.08\n",
      "CONNECT     0.06\n",
      "HEAD        0.00\n",
      "Name: proportion, dtype: float64\n",
      "Bots: method\n",
      "POST       89.29\n",
      "GET        10.35\n",
      "OPTIONS     0.36\n",
      "Name: proportion, dtype: float64\n",
      "\n",
      "Referrer Presence:\n",
      "Humans: 0.9678670289439109\n",
      "Bots: 0.9917481662591687\n"
     ]
    }
   ],
   "source": [
    "# Run analysis for phase 2 data\n",
    "file_path_2 = \"data/interim/web_log_phase2.csv\"\n",
    "df2 = pd.read_csv(file_path_2, parse_dates=[\"datetime\"])\n",
    "analyze_requests(df2)\n",
    "compare_humans_bots(df2)"
   ]
  }
 ],
 "metadata": {
  "kernelspec": {
   "display_name": "venv",
   "language": "python",
   "name": "python3"
  },
  "language_info": {
   "codemirror_mode": {
    "name": "ipython",
    "version": 3
   },
   "file_extension": ".py",
   "mimetype": "text/x-python",
   "name": "python",
   "nbconvert_exporter": "python",
   "pygments_lexer": "ipython3",
   "version": "3.13.1"
  }
 },
 "nbformat": 4,
 "nbformat_minor": 2
}
