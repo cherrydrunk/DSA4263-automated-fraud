{
 "cells": [
  {
   "cell_type": "code",
   "execution_count": null,
   "metadata": {},
   "outputs": [
    {
     "name": "stdout",
     "output_type": "stream",
     "text": [
      "Extracted to ../../data/raw/web_bot_detection_dataset/\n",
      "Added ../../data/raw/web_bot_detection_dataset/ to .gitignore\n"
     ]
    }
   ],
   "source": [
    "import zipfile\n",
    "import os\n",
    "\n",
    "# Define the zip file and destination folder\n",
    "zip_path = r'../../data/raw/web_bot_detection_dataset.zip'  \n",
    "extract_folder = \"../../data/raw/web_bot_detection_dataset/\"  \n",
    "\n",
    "# Unzip the folder\n",
    "with zipfile.ZipFile(zip_path, 'r') as zip_ref:\n",
    "    zip_ref.extractall(extract_folder)\n",
    "\n",
    "print(f\"Extracted to {extract_folder}\")\n",
    "\n",
    "gitignore_path = \"../../../.gitignore\"\n",
    "folder_to_ignore = \"data/raw/web_bot_detection_dataset/\\n\" \n",
    "\n",
    "# Append to .gitignore if not already ignored\n",
    "if os.path.exists(gitignore_path):\n",
    "    with open(gitignore_path, \"r+\") as f:\n",
    "        content = f.read()\n",
    "        if folder_to_ignore not in content:\n",
    "            f.write(folder_to_ignore)\n",
    "            print(f\"Added {folder_to_ignore.strip()} to .gitignore\")\n",
    "else:\n",
    "    with open(gitignore_path, \"w\") as f:\n",
    "        f.write(folder_to_ignore)\n",
    "        print(f\"Created .gitignore and added {folder_to_ignore.strip()}\")"
   ]
  }
 ],
 "metadata": {
  "kernelspec": {
   "display_name": "Python 3",
   "language": "python",
   "name": "python3"
  },
  "language_info": {
   "codemirror_mode": {
    "name": "ipython",
    "version": 3
   },
   "file_extension": ".py",
   "mimetype": "text/x-python",
   "name": "python",
   "nbconvert_exporter": "python",
   "pygments_lexer": "ipython3",
   "version": "3.10.7"
  }
 },
 "nbformat": 4,
 "nbformat_minor": 2
}
